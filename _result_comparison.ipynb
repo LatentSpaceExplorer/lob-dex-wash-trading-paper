{
 "cells": [
  {
   "cell_type": "code",
   "execution_count": 1,
   "metadata": {},
   "outputs": [],
   "source": [
    "import polars as pl"
   ]
  },
  {
   "cell_type": "code",
   "execution_count": 2,
   "metadata": {},
   "outputs": [],
   "source": [
    "root_path_old = \"./output_old/etherdelta-t100-1h-1d-1w-1pmargin/\" #idex etherdelta\n",
    "root_path_new = \"./output_py/etherdelta-t100-1h-1d-1w-1pmargin/\""
   ]
  },
  {
   "cell_type": "markdown",
   "metadata": {},
   "source": [
    "## Self Trades"
   ]
  },
  {
   "cell_type": "code",
   "execution_count": 3,
   "metadata": {},
   "outputs": [],
   "source": [
    "self_trades_path_old = root_path_old + \"/self_trades.csv\"\n",
    "self_trades_path_new = root_path_new + \"/self_trades.csv\""
   ]
  },
  {
   "cell_type": "code",
   "execution_count": 4,
   "metadata": {},
   "outputs": [
    {
     "data": {
      "text/html": [
       "<div><style>\n",
       ".dataframe > thead > tr,\n",
       ".dataframe > tbody > tr {\n",
       "  text-align: right;\n",
       "  white-space: pre-wrap;\n",
       "}\n",
       "</style>\n",
       "<small>shape: (58_791, 13)</small><table border=\"1\" class=\"dataframe\"><thead><tr><th>date</th><th>cut</th><th>blockNumber</th><th>timestamp</th><th>transactionHash</th><th>eth_buyer</th><th>eth_seller</th><th>ether</th><th>token</th><th>trade_amount_eth</th><th>trade_amount_dollar</th><th>trade_amount_token</th><th>token_price_in_eth</th></tr><tr><td>str</td><td>i64</td><td>i64</td><td>i64</td><td>str</td><td>str</td><td>str</td><td>str</td><td>str</td><td>f64</td><td>f64</td><td>f64</td><td>str</td></tr></thead><tbody><tr><td>&quot;2017-02-10&quot;</td><td>1486684800</td><td>3154961</td><td>1486691375</td><td>&quot;0xa9672e084623…</td><td>&quot;0x099c1ce9f8e5…</td><td>&quot;0x099c1ce9f8e5…</td><td>&quot;0x000000000000…</td><td>&quot;0xac709fcb44a4…</td><td>6.53775</td><td>74.138085</td><td>1895.0</td><td>&quot;0.00345&quot;</td></tr><tr><td>&quot;2017-02-11&quot;</td><td>1486771200</td><td>3166408</td><td>1486855024</td><td>&quot;0x9e2351e3517a…</td><td>&quot;0xa2d1fb276afd…</td><td>&quot;0xa2d1fb276afd…</td><td>&quot;0x000000000000…</td><td>&quot;0xd8912c10681d…</td><td>0.148</td><td>1.69164</td><td>1.0</td><td>&quot;0.148&quot;</td></tr><tr><td>&quot;2017-02-18&quot;</td><td>1487376000</td><td>3206640</td><td>1487430762</td><td>&quot;0xf1fe08821437…</td><td>&quot;0x92a8f4c470e2…</td><td>&quot;0x92a8f4c470e2…</td><td>&quot;0x000000000000…</td><td>&quot;0xaf30d2a7e90d…</td><td>0.215</td><td>2.75845</td><td>41.425819</td><td>&quot;0.00519&quot;</td></tr><tr><td>&quot;2017-02-18&quot;</td><td>1487376000</td><td>3206653</td><td>1487430903</td><td>&quot;0x24421c31a902…</td><td>&quot;0x92a8f4c470e2…</td><td>&quot;0x92a8f4c470e2…</td><td>&quot;0x000000000000…</td><td>&quot;0xaf30d2a7e90d…</td><td>0.215</td><td>2.75845</td><td>41.425819</td><td>&quot;0.00519&quot;</td></tr><tr><td>&quot;2017-02-18&quot;</td><td>1487376000</td><td>3206662</td><td>1487431073</td><td>&quot;0x5d0d697c0557…</td><td>&quot;0x92a8f4c470e2…</td><td>&quot;0x92a8f4c470e2…</td><td>&quot;0x000000000000…</td><td>&quot;0xaf30d2a7e90d…</td><td>0.215</td><td>2.75845</td><td>41.425819</td><td>&quot;0.00519&quot;</td></tr><tr><td>&hellip;</td><td>&hellip;</td><td>&hellip;</td><td>&hellip;</td><td>&hellip;</td><td>&hellip;</td><td>&hellip;</td><td>&hellip;</td><td>&hellip;</td><td>&hellip;</td><td>&hellip;</td><td>&hellip;</td><td>&hellip;</td></tr><tr><td>&quot;2020-05-01&quot;</td><td>1588291200</td><td>9982936</td><td>1588370654</td><td>&quot;0x528045eef0e1…</td><td>&quot;0x9a6278d16ed1…</td><td>&quot;0x9a6278d16ed1…</td><td>&quot;0x000000000000…</td><td>&quot;0x25cef4fb106e…</td><td>0.00033</td><td>0.0699534</td><td>3.0000e-11</td><td>&quot;1.1e+07&quot;</td></tr><tr><td>&quot;2020-05-01&quot;</td><td>1588291200</td><td>9982954</td><td>1588370864</td><td>&quot;0x2afa4636f060…</td><td>&quot;0x9a6278d16ed1…</td><td>&quot;0x9a6278d16ed1…</td><td>&quot;0x000000000000…</td><td>&quot;0x25cef4fb106e…</td><td>0.00042</td><td>0.0890316</td><td>4.0000e-11</td><td>&quot;10500000&quot;</td></tr><tr><td>&quot;2020-05-02&quot;</td><td>1588377600</td><td>9985866</td><td>1588410852</td><td>&quot;0x836c2941e80c…</td><td>&quot;0x1c0fea2f5825…</td><td>&quot;0x1c0fea2f5825…</td><td>&quot;0x000000000000…</td><td>&quot;0x17d67119a65d…</td><td>0.00111</td><td>0.2377065</td><td>111.0</td><td>&quot;1e-05&quot;</td></tr><tr><td>&quot;2020-05-02&quot;</td><td>1588377600</td><td>9989467</td><td>1588458010</td><td>&quot;0xd9bc12bb83b6…</td><td>&quot;0xfb06bdde0ca4…</td><td>&quot;0xfb06bdde0ca4…</td><td>&quot;0x000000000000…</td><td>&quot;0x22767d7ca0c7…</td><td>0.044312</td><td>9.4894148</td><td>20.0</td><td>&quot;0.0022156&quot;</td></tr><tr><td>&quot;2020-05-02&quot;</td><td>1588377600</td><td>9989765</td><td>1588462023</td><td>&quot;0x775644c766a1…</td><td>&quot;0xfb06bdde0ca4…</td><td>&quot;0xfb06bdde0ca4…</td><td>&quot;0x000000000000…</td><td>&quot;0x22767d7ca0c7…</td><td>0.22156</td><td>47.447074</td><td>100.0</td><td>&quot;0.0022156&quot;</td></tr></tbody></table></div>"
      ],
      "text/plain": [
       "shape: (58_791, 13)\n",
       "┌───────────┬───────────┬───────────┬───────────┬───┬───────────┬───────────┬───────────┬──────────┐\n",
       "│ date      ┆ cut       ┆ blockNumb ┆ timestamp ┆ … ┆ trade_amo ┆ trade_amo ┆ trade_amo ┆ token_pr │\n",
       "│ ---       ┆ ---       ┆ er        ┆ ---       ┆   ┆ unt_eth   ┆ unt_dolla ┆ unt_token ┆ ice_in_e │\n",
       "│ str       ┆ i64       ┆ ---       ┆ i64       ┆   ┆ ---       ┆ r         ┆ ---       ┆ th       │\n",
       "│           ┆           ┆ i64       ┆           ┆   ┆ f64       ┆ ---       ┆ f64       ┆ ---      │\n",
       "│           ┆           ┆           ┆           ┆   ┆           ┆ f64       ┆           ┆ str      │\n",
       "╞═══════════╪═══════════╪═══════════╪═══════════╪═══╪═══════════╪═══════════╪═══════════╪══════════╡\n",
       "│ 2017-02-1 ┆ 148668480 ┆ 3154961   ┆ 148669137 ┆ … ┆ 6.53775   ┆ 74.138085 ┆ 1895.0    ┆ 0.00345  │\n",
       "│ 0         ┆ 0         ┆           ┆ 5         ┆   ┆           ┆           ┆           ┆          │\n",
       "│ 2017-02-1 ┆ 148677120 ┆ 3166408   ┆ 148685502 ┆ … ┆ 0.148     ┆ 1.69164   ┆ 1.0       ┆ 0.148    │\n",
       "│ 1         ┆ 0         ┆           ┆ 4         ┆   ┆           ┆           ┆           ┆          │\n",
       "│ 2017-02-1 ┆ 148737600 ┆ 3206640   ┆ 148743076 ┆ … ┆ 0.215     ┆ 2.75845   ┆ 41.425819 ┆ 0.00519  │\n",
       "│ 8         ┆ 0         ┆           ┆ 2         ┆   ┆           ┆           ┆           ┆          │\n",
       "│ 2017-02-1 ┆ 148737600 ┆ 3206653   ┆ 148743090 ┆ … ┆ 0.215     ┆ 2.75845   ┆ 41.425819 ┆ 0.00519  │\n",
       "│ 8         ┆ 0         ┆           ┆ 3         ┆   ┆           ┆           ┆           ┆          │\n",
       "│ 2017-02-1 ┆ 148737600 ┆ 3206662   ┆ 148743107 ┆ … ┆ 0.215     ┆ 2.75845   ┆ 41.425819 ┆ 0.00519  │\n",
       "│ 8         ┆ 0         ┆           ┆ 3         ┆   ┆           ┆           ┆           ┆          │\n",
       "│ …         ┆ …         ┆ …         ┆ …         ┆ … ┆ …         ┆ …         ┆ …         ┆ …        │\n",
       "│ 2020-05-0 ┆ 158829120 ┆ 9982936   ┆ 158837065 ┆ … ┆ 0.00033   ┆ 0.0699534 ┆ 3.0000e-1 ┆ 1.1e+07  │\n",
       "│ 1         ┆ 0         ┆           ┆ 4         ┆   ┆           ┆           ┆ 1         ┆          │\n",
       "│ 2020-05-0 ┆ 158829120 ┆ 9982954   ┆ 158837086 ┆ … ┆ 0.00042   ┆ 0.0890316 ┆ 4.0000e-1 ┆ 10500000 │\n",
       "│ 1         ┆ 0         ┆           ┆ 4         ┆   ┆           ┆           ┆ 1         ┆          │\n",
       "│ 2020-05-0 ┆ 158837760 ┆ 9985866   ┆ 158841085 ┆ … ┆ 0.00111   ┆ 0.2377065 ┆ 111.0     ┆ 1e-05    │\n",
       "│ 2         ┆ 0         ┆           ┆ 2         ┆   ┆           ┆           ┆           ┆          │\n",
       "│ 2020-05-0 ┆ 158837760 ┆ 9989467   ┆ 158845801 ┆ … ┆ 0.044312  ┆ 9.4894148 ┆ 20.0      ┆ 0.002215 │\n",
       "│ 2         ┆ 0         ┆           ┆ 0         ┆   ┆           ┆           ┆           ┆ 6        │\n",
       "│ 2020-05-0 ┆ 158837760 ┆ 9989765   ┆ 158846202 ┆ … ┆ 0.22156   ┆ 47.447074 ┆ 100.0     ┆ 0.002215 │\n",
       "│ 2         ┆ 0         ┆           ┆ 3         ┆   ┆           ┆           ┆           ┆ 6        │\n",
       "└───────────┴───────────┴───────────┴───────────┴───┴───────────┴───────────┴───────────┴──────────┘"
      ]
     },
     "execution_count": 4,
     "metadata": {},
     "output_type": "execute_result"
    }
   ],
   "source": [
    "pl.read_csv(self_trades_path_old)"
   ]
  },
  {
   "cell_type": "code",
   "execution_count": 5,
   "metadata": {},
   "outputs": [
    {
     "data": {
      "text/html": [
       "<div><style>\n",
       ".dataframe > thead > tr,\n",
       ".dataframe > tbody > tr {\n",
       "  text-align: right;\n",
       "  white-space: pre-wrap;\n",
       "}\n",
       "</style>\n",
       "<small>shape: (58_791, 13)</small><table border=\"1\" class=\"dataframe\"><thead><tr><th>date</th><th>cut</th><th>blockNumber</th><th>timestamp</th><th>transactionHash</th><th>eth_buyer</th><th>eth_seller</th><th>ether</th><th>token</th><th>trade_amount_eth</th><th>trade_amount_dollar</th><th>trade_amount_token</th><th>token_price_in_eth</th></tr><tr><td>str</td><td>f64</td><td>i64</td><td>i64</td><td>str</td><td>str</td><td>str</td><td>str</td><td>str</td><td>f64</td><td>f64</td><td>f64</td><td>f64</td></tr></thead><tbody><tr><td>&quot;2017-02-10&quot;</td><td>1.4867e9</td><td>3154961</td><td>1486691375</td><td>&quot;0xa9672e084623…</td><td>&quot;0x099c1ce9f8e5…</td><td>&quot;0x099c1ce9f8e5…</td><td>&quot;0x000000000000…</td><td>&quot;0xac709fcb44a4…</td><td>6.53775</td><td>74.138085</td><td>1895.0</td><td>0.00345</td></tr><tr><td>&quot;2017-02-11&quot;</td><td>1.4868e9</td><td>3166408</td><td>1486855024</td><td>&quot;0x9e2351e3517a…</td><td>&quot;0xa2d1fb276afd…</td><td>&quot;0xa2d1fb276afd…</td><td>&quot;0x000000000000…</td><td>&quot;0xd8912c10681d…</td><td>0.148</td><td>1.69164</td><td>1.0</td><td>0.148</td></tr><tr><td>&quot;2017-02-18&quot;</td><td>1.4874e9</td><td>3206640</td><td>1487430762</td><td>&quot;0xf1fe08821437…</td><td>&quot;0x92a8f4c470e2…</td><td>&quot;0x92a8f4c470e2…</td><td>&quot;0x000000000000…</td><td>&quot;0xaf30d2a7e90d…</td><td>0.215</td><td>2.75845</td><td>41.425819</td><td>0.00519</td></tr><tr><td>&quot;2017-02-18&quot;</td><td>1.4874e9</td><td>3206653</td><td>1487430903</td><td>&quot;0x24421c31a902…</td><td>&quot;0x92a8f4c470e2…</td><td>&quot;0x92a8f4c470e2…</td><td>&quot;0x000000000000…</td><td>&quot;0xaf30d2a7e90d…</td><td>0.215</td><td>2.75845</td><td>41.425819</td><td>0.00519</td></tr><tr><td>&quot;2017-02-18&quot;</td><td>1.4874e9</td><td>3206662</td><td>1487431073</td><td>&quot;0x5d0d697c0557…</td><td>&quot;0x92a8f4c470e2…</td><td>&quot;0x92a8f4c470e2…</td><td>&quot;0x000000000000…</td><td>&quot;0xaf30d2a7e90d…</td><td>0.215</td><td>2.75845</td><td>41.425819</td><td>0.00519</td></tr><tr><td>&hellip;</td><td>&hellip;</td><td>&hellip;</td><td>&hellip;</td><td>&hellip;</td><td>&hellip;</td><td>&hellip;</td><td>&hellip;</td><td>&hellip;</td><td>&hellip;</td><td>&hellip;</td><td>&hellip;</td><td>&hellip;</td></tr><tr><td>&quot;2020-05-01&quot;</td><td>1.5883e9</td><td>9982936</td><td>1588370654</td><td>&quot;0x528045eef0e1…</td><td>&quot;0x9a6278d16ed1…</td><td>&quot;0x9a6278d16ed1…</td><td>&quot;0x000000000000…</td><td>&quot;0x25cef4fb106e…</td><td>0.00033</td><td>0.0699534</td><td>3.0000e-11</td><td>1.1e7</td></tr><tr><td>&quot;2020-05-01&quot;</td><td>1.5883e9</td><td>9982954</td><td>1588370864</td><td>&quot;0x2afa4636f060…</td><td>&quot;0x9a6278d16ed1…</td><td>&quot;0x9a6278d16ed1…</td><td>&quot;0x000000000000…</td><td>&quot;0x25cef4fb106e…</td><td>0.00042</td><td>0.0890316</td><td>4.0000e-11</td><td>1.0500e7</td></tr><tr><td>&quot;2020-05-02&quot;</td><td>1.5884e9</td><td>9985866</td><td>1588410852</td><td>&quot;0x836c2941e80c…</td><td>&quot;0x1c0fea2f5825…</td><td>&quot;0x1c0fea2f5825…</td><td>&quot;0x000000000000…</td><td>&quot;0x17d67119a65d…</td><td>0.00111</td><td>0.237707</td><td>111.0</td><td>0.00001</td></tr><tr><td>&quot;2020-05-02&quot;</td><td>1.5884e9</td><td>9989467</td><td>1588458010</td><td>&quot;0xd9bc12bb83b6…</td><td>&quot;0xfb06bdde0ca4…</td><td>&quot;0xfb06bdde0ca4…</td><td>&quot;0x000000000000…</td><td>&quot;0x22767d7ca0c7…</td><td>0.044312</td><td>9.4894148</td><td>20.0</td><td>0.0022156</td></tr><tr><td>&quot;2020-05-02&quot;</td><td>1.5884e9</td><td>9989765</td><td>1588462023</td><td>&quot;0x775644c766a1…</td><td>&quot;0xfb06bdde0ca4…</td><td>&quot;0xfb06bdde0ca4…</td><td>&quot;0x000000000000…</td><td>&quot;0x22767d7ca0c7…</td><td>0.22156</td><td>47.447074</td><td>100.0</td><td>0.0022156</td></tr></tbody></table></div>"
      ],
      "text/plain": [
       "shape: (58_791, 13)\n",
       "┌───────────┬──────────┬───────────┬───────────┬───┬───────────┬───────────┬───────────┬───────────┐\n",
       "│ date      ┆ cut      ┆ blockNumb ┆ timestamp ┆ … ┆ trade_amo ┆ trade_amo ┆ trade_amo ┆ token_pri │\n",
       "│ ---       ┆ ---      ┆ er        ┆ ---       ┆   ┆ unt_eth   ┆ unt_dolla ┆ unt_token ┆ ce_in_eth │\n",
       "│ str       ┆ f64      ┆ ---       ┆ i64       ┆   ┆ ---       ┆ r         ┆ ---       ┆ ---       │\n",
       "│           ┆          ┆ i64       ┆           ┆   ┆ f64       ┆ ---       ┆ f64       ┆ f64       │\n",
       "│           ┆          ┆           ┆           ┆   ┆           ┆ f64       ┆           ┆           │\n",
       "╞═══════════╪══════════╪═══════════╪═══════════╪═══╪═══════════╪═══════════╪═══════════╪═══════════╡\n",
       "│ 2017-02-1 ┆ 1.4867e9 ┆ 3154961   ┆ 148669137 ┆ … ┆ 6.53775   ┆ 74.138085 ┆ 1895.0    ┆ 0.00345   │\n",
       "│ 0         ┆          ┆           ┆ 5         ┆   ┆           ┆           ┆           ┆           │\n",
       "│ 2017-02-1 ┆ 1.4868e9 ┆ 3166408   ┆ 148685502 ┆ … ┆ 0.148     ┆ 1.69164   ┆ 1.0       ┆ 0.148     │\n",
       "│ 1         ┆          ┆           ┆ 4         ┆   ┆           ┆           ┆           ┆           │\n",
       "│ 2017-02-1 ┆ 1.4874e9 ┆ 3206640   ┆ 148743076 ┆ … ┆ 0.215     ┆ 2.75845   ┆ 41.425819 ┆ 0.00519   │\n",
       "│ 8         ┆          ┆           ┆ 2         ┆   ┆           ┆           ┆           ┆           │\n",
       "│ 2017-02-1 ┆ 1.4874e9 ┆ 3206653   ┆ 148743090 ┆ … ┆ 0.215     ┆ 2.75845   ┆ 41.425819 ┆ 0.00519   │\n",
       "│ 8         ┆          ┆           ┆ 3         ┆   ┆           ┆           ┆           ┆           │\n",
       "│ 2017-02-1 ┆ 1.4874e9 ┆ 3206662   ┆ 148743107 ┆ … ┆ 0.215     ┆ 2.75845   ┆ 41.425819 ┆ 0.00519   │\n",
       "│ 8         ┆          ┆           ┆ 3         ┆   ┆           ┆           ┆           ┆           │\n",
       "│ …         ┆ …        ┆ …         ┆ …         ┆ … ┆ …         ┆ …         ┆ …         ┆ …         │\n",
       "│ 2020-05-0 ┆ 1.5883e9 ┆ 9982936   ┆ 158837065 ┆ … ┆ 0.00033   ┆ 0.0699534 ┆ 3.0000e-1 ┆ 1.1e7     │\n",
       "│ 1         ┆          ┆           ┆ 4         ┆   ┆           ┆           ┆ 1         ┆           │\n",
       "│ 2020-05-0 ┆ 1.5883e9 ┆ 9982954   ┆ 158837086 ┆ … ┆ 0.00042   ┆ 0.0890316 ┆ 4.0000e-1 ┆ 1.0500e7  │\n",
       "│ 1         ┆          ┆           ┆ 4         ┆   ┆           ┆           ┆ 1         ┆           │\n",
       "│ 2020-05-0 ┆ 1.5884e9 ┆ 9985866   ┆ 158841085 ┆ … ┆ 0.00111   ┆ 0.237707  ┆ 111.0     ┆ 0.00001   │\n",
       "│ 2         ┆          ┆           ┆ 2         ┆   ┆           ┆           ┆           ┆           │\n",
       "│ 2020-05-0 ┆ 1.5884e9 ┆ 9989467   ┆ 158845801 ┆ … ┆ 0.044312  ┆ 9.4894148 ┆ 20.0      ┆ 0.0022156 │\n",
       "│ 2         ┆          ┆           ┆ 0         ┆   ┆           ┆           ┆           ┆           │\n",
       "│ 2020-05-0 ┆ 1.5884e9 ┆ 9989765   ┆ 158846202 ┆ … ┆ 0.22156   ┆ 47.447074 ┆ 100.0     ┆ 0.0022156 │\n",
       "│ 2         ┆          ┆           ┆ 3         ┆   ┆           ┆           ┆           ┆           │\n",
       "└───────────┴──────────┴───────────┴───────────┴───┴───────────┴───────────┴───────────┴───────────┘"
      ]
     },
     "execution_count": 5,
     "metadata": {},
     "output_type": "execute_result"
    }
   ],
   "source": [
    "pl.read_csv(self_trades_path_new)"
   ]
  },
  {
   "cell_type": "code",
   "execution_count": 6,
   "metadata": {},
   "outputs": [],
   "source": [
    "self_trades_sum_path_old = root_path_old + \"/self_trades_summary.csv\"\n",
    "self_trades_sum_path_new = root_path_new + \"/self_trades_summary.csv\""
   ]
  },
  {
   "cell_type": "code",
   "execution_count": 7,
   "metadata": {},
   "outputs": [
    {
     "data": {
      "text/html": [
       "<div><style>\n",
       ".dataframe > thead > tr,\n",
       ".dataframe > tbody > tr {\n",
       "  text-align: right;\n",
       "  white-space: pre-wrap;\n",
       "}\n",
       "</style>\n",
       "<small>shape: (7_138, 8)</small><table border=\"1\" class=\"dataframe\"><thead><tr><th>trader</th><th>token</th><th>tx_count</th><th>tx_sum_eth</th><th>tx_sum_dollar</th><th>tx_sum_token</th><th>start_date</th><th>end_date</th></tr><tr><td>str</td><td>str</td><td>i64</td><td>f64</td><td>f64</td><td>f64</td><td>str</td><td>str</td></tr></thead><tbody><tr><td>&quot;0x099c1ce9f8e5…</td><td>&quot;0xac709fcb44a4…</td><td>1</td><td>6.53775</td><td>74.138085</td><td>1895.0</td><td>&quot;2017-02-10&quot;</td><td>&quot;2017-02-10&quot;</td></tr><tr><td>&quot;0xa2d1fb276afd…</td><td>&quot;0xd8912c10681d…</td><td>12</td><td>6.225436</td><td>1516.119956</td><td>168.837735</td><td>&quot;2017-02-11&quot;</td><td>&quot;2017-11-13&quot;</td></tr><tr><td>&quot;0x92a8f4c470e2…</td><td>&quot;0xaf30d2a7e90d…</td><td>3</td><td>0.645</td><td>8.27535</td><td>124.277457</td><td>&quot;2017-02-18&quot;</td><td>&quot;2017-02-18&quot;</td></tr><tr><td>&quot;0x153685a03c20…</td><td>&quot;0xaf30d2a7e90d…</td><td>1</td><td>0.00066</td><td>0.0082632</td><td>0.1</td><td>&quot;2017-02-20&quot;</td><td>&quot;2017-02-20&quot;</td></tr><tr><td>&quot;0xff3f57a24a85…</td><td>&quot;0xac709fcb44a4…</td><td>1</td><td>0.135</td><td>1.72395</td><td>10.0</td><td>&quot;2017-02-21&quot;</td><td>&quot;2017-02-21&quot;</td></tr><tr><td>&hellip;</td><td>&hellip;</td><td>&hellip;</td><td>&hellip;</td><td>&hellip;</td><td>&hellip;</td><td>&hellip;</td><td>&hellip;</td></tr><tr><td>&quot;0x95328d986307…</td><td>&quot;0xccbf21ba6ef0…</td><td>2</td><td>0.032791</td><td>7.068097</td><td>295.118895</td><td>&quot;2020-04-29&quot;</td><td>&quot;2020-04-29&quot;</td></tr><tr><td>&quot;0x2be27dea7caf…</td><td>&quot;0x14cc8dfaf225…</td><td>1</td><td>0.0005</td><td>0.107775</td><td>1.0</td><td>&quot;2020-04-29&quot;</td><td>&quot;2020-04-29&quot;</td></tr><tr><td>&quot;0xeee058b27d8c…</td><td>&quot;0xcc6f15be8573…</td><td>2</td><td>0.000215</td><td>0.044975</td><td>1.075326</td><td>&quot;2020-04-30&quot;</td><td>&quot;2020-05-01&quot;</td></tr><tr><td>&quot;0x1c0fea2f5825…</td><td>&quot;0x17d67119a65d…</td><td>1</td><td>0.00111</td><td>0.2377065</td><td>111.0</td><td>&quot;2020-05-02&quot;</td><td>&quot;2020-05-02&quot;</td></tr><tr><td>&quot;0xfb06bdde0ca4…</td><td>&quot;0x22767d7ca0c7…</td><td>2</td><td>0.265872</td><td>56.936489</td><td>120.0</td><td>&quot;2020-05-02&quot;</td><td>&quot;2020-05-02&quot;</td></tr></tbody></table></div>"
      ],
      "text/plain": [
       "shape: (7_138, 8)\n",
       "┌────────────┬────────────┬──────────┬────────────┬────────────┬───────────┬───────────┬───────────┐\n",
       "│ trader     ┆ token      ┆ tx_count ┆ tx_sum_eth ┆ tx_sum_dol ┆ tx_sum_to ┆ start_dat ┆ end_date  │\n",
       "│ ---        ┆ ---        ┆ ---      ┆ ---        ┆ lar        ┆ ken       ┆ e         ┆ ---       │\n",
       "│ str        ┆ str        ┆ i64      ┆ f64        ┆ ---        ┆ ---       ┆ ---       ┆ str       │\n",
       "│            ┆            ┆          ┆            ┆ f64        ┆ f64       ┆ str       ┆           │\n",
       "╞════════════╪════════════╪══════════╪════════════╪════════════╪═══════════╪═══════════╪═══════════╡\n",
       "│ 0x099c1ce9 ┆ 0xac709fcb ┆ 1        ┆ 6.53775    ┆ 74.138085  ┆ 1895.0    ┆ 2017-02-1 ┆ 2017-02-1 │\n",
       "│ f8e59e9ba9 ┆ 44a43c35f0 ┆          ┆            ┆            ┆           ┆ 0         ┆ 0         │\n",
       "│ 5f4f8dfc3a ┆ da4e3163b1 ┆          ┆            ┆            ┆           ┆           ┆           │\n",
       "│ 5e…        ┆ 17…        ┆          ┆            ┆            ┆           ┆           ┆           │\n",
       "│ 0xa2d1fb27 ┆ 0xd8912c10 ┆ 12       ┆ 6.225436   ┆ 1516.11995 ┆ 168.83773 ┆ 2017-02-1 ┆ 2017-11-1 │\n",
       "│ 6afdf61e98 ┆ 681d8b21fd ┆          ┆            ┆ 6          ┆ 5         ┆ 1         ┆ 3         │\n",
       "│ b5e0e185ed ┆ 3742244f44 ┆          ┆            ┆            ┆           ┆           ┆           │\n",
       "│ 5b…        ┆ 65…        ┆          ┆            ┆            ┆           ┆           ┆           │\n",
       "│ 0x92a8f4c4 ┆ 0xaf30d2a7 ┆ 3        ┆ 0.645      ┆ 8.27535    ┆ 124.27745 ┆ 2017-02-1 ┆ 2017-02-1 │\n",
       "│ 70e2c243e4 ┆ e90d7dc361 ┆          ┆            ┆            ┆ 7         ┆ 8         ┆ 8         │\n",
       "│ 8c14709dda ┆ c8c4585e9b ┆          ┆            ┆            ┆           ┆           ┆           │\n",
       "│ 90…        ┆ b7…        ┆          ┆            ┆            ┆           ┆           ┆           │\n",
       "│ 0x153685a0 ┆ 0xaf30d2a7 ┆ 1        ┆ 0.00066    ┆ 0.0082632  ┆ 0.1       ┆ 2017-02-2 ┆ 2017-02-2 │\n",
       "│ 3c2025b682 ┆ e90d7dc361 ┆          ┆            ┆            ┆           ┆ 0         ┆ 0         │\n",
       "│ 5ae164e2ff ┆ c8c4585e9b ┆          ┆            ┆            ┆           ┆           ┆           │\n",
       "│ 56…        ┆ b7…        ┆          ┆            ┆            ┆           ┆           ┆           │\n",
       "│ 0xff3f57a2 ┆ 0xac709fcb ┆ 1        ┆ 0.135      ┆ 1.72395    ┆ 10.0      ┆ 2017-02-2 ┆ 2017-02-2 │\n",
       "│ 4a85a2b23b ┆ 44a43c35f0 ┆          ┆            ┆            ┆           ┆ 1         ┆ 1         │\n",
       "│ de12ca8120 ┆ da4e3163b1 ┆          ┆            ┆            ┆           ┆           ┆           │\n",
       "│ 33…        ┆ 17…        ┆          ┆            ┆            ┆           ┆           ┆           │\n",
       "│ …          ┆ …          ┆ …        ┆ …          ┆ …          ┆ …         ┆ …         ┆ …         │\n",
       "│ 0x95328d98 ┆ 0xccbf21ba ┆ 2        ┆ 0.032791   ┆ 7.068097   ┆ 295.11889 ┆ 2020-04-2 ┆ 2020-04-2 │\n",
       "│ 630779834f ┆ 6ef00802ab ┆          ┆            ┆            ┆ 5         ┆ 9         ┆ 9         │\n",
       "│ 3e46f78f90 ┆ 06637896b7 ┆          ┆            ┆            ┆           ┆           ┆           │\n",
       "│ 00…        ┆ 99…        ┆          ┆            ┆            ┆           ┆           ┆           │\n",
       "│ 0x2be27dea ┆ 0x14cc8dfa ┆ 1        ┆ 0.0005     ┆ 0.107775   ┆ 1.0       ┆ 2020-04-2 ┆ 2020-04-2 │\n",
       "│ 7caf160e26 ┆ f2258e1b8b ┆          ┆            ┆            ┆           ┆ 9         ┆ 9         │\n",
       "│ 7769bb993b ┆ 2869300dba ┆          ┆            ┆            ┆           ┆           ┆           │\n",
       "│ 9e…        ┆ 1b…        ┆          ┆            ┆            ┆           ┆           ┆           │\n",
       "│ 0xeee058b2 ┆ 0xcc6f15be ┆ 2        ┆ 0.000215   ┆ 0.044975   ┆ 1.075326  ┆ 2020-04-3 ┆ 2020-05-0 │\n",
       "│ 7d8cdd7381 ┆ 8573cb8243 ┆          ┆            ┆            ┆           ┆ 0         ┆ 1         │\n",
       "│ 144d04ed27 ┆ c42d300565 ┆          ┆            ┆            ┆           ┆           ┆           │\n",
       "│ bb…        ┆ 56…        ┆          ┆            ┆            ┆           ┆           ┆           │\n",
       "│ 0x1c0fea2f ┆ 0x17d67119 ┆ 1        ┆ 0.00111    ┆ 0.2377065  ┆ 111.0     ┆ 2020-05-0 ┆ 2020-05-0 │\n",
       "│ 58255e4ce3 ┆ a65d3de863 ┆          ┆            ┆            ┆           ┆ 2         ┆ 2         │\n",
       "│ 3d39cb5ee9 ┆ 84226efa9a ┆          ┆            ┆            ┆           ┆           ┆           │\n",
       "│ b8…        ┆ 18…        ┆          ┆            ┆            ┆           ┆           ┆           │\n",
       "│ 0xfb06bdde ┆ 0x22767d7c ┆ 2        ┆ 0.265872   ┆ 56.936489  ┆ 120.0     ┆ 2020-05-0 ┆ 2020-05-0 │\n",
       "│ 0ca40d0d8b ┆ a0c752338a ┆          ┆            ┆            ┆           ┆ 2         ┆ 2         │\n",
       "│ 77242145d1 ┆ e44f7156a5 ┆          ┆            ┆            ┆           ┆           ┆           │\n",
       "│ 15…        ┆ 00…        ┆          ┆            ┆            ┆           ┆           ┆           │\n",
       "└────────────┴────────────┴──────────┴────────────┴────────────┴───────────┴───────────┴───────────┘"
      ]
     },
     "execution_count": 7,
     "metadata": {},
     "output_type": "execute_result"
    }
   ],
   "source": [
    "pl.read_csv(self_trades_sum_path_old)"
   ]
  },
  {
   "cell_type": "code",
   "execution_count": 8,
   "metadata": {},
   "outputs": [
    {
     "data": {
      "text/html": [
       "<div><style>\n",
       ".dataframe > thead > tr,\n",
       ".dataframe > tbody > tr {\n",
       "  text-align: right;\n",
       "  white-space: pre-wrap;\n",
       "}\n",
       "</style>\n",
       "<small>shape: (7_138, 8)</small><table border=\"1\" class=\"dataframe\"><thead><tr><th>trader</th><th>token</th><th>tx_sum_eth</th><th>tx_sum_dollar</th><th>tx_sum_token</th><th>start_date</th><th>end_date</th><th>tx_count</th></tr><tr><td>str</td><td>str</td><td>f64</td><td>f64</td><td>f64</td><td>str</td><td>str</td><td>i64</td></tr></thead><tbody><tr><td>&quot;0x099c1ce9f8e5…</td><td>&quot;0xac709fcb44a4…</td><td>6.53775</td><td>74.138085</td><td>1895.0</td><td>&quot;2017-02-10&quot;</td><td>&quot;2017-02-10&quot;</td><td>1</td></tr><tr><td>&quot;0xa2d1fb276afd…</td><td>&quot;0xd8912c10681d…</td><td>6.225436</td><td>1516.119956</td><td>168.837735</td><td>&quot;2017-02-11&quot;</td><td>&quot;2017-11-13&quot;</td><td>12</td></tr><tr><td>&quot;0x92a8f4c470e2…</td><td>&quot;0xaf30d2a7e90d…</td><td>0.645</td><td>8.27535</td><td>124.277457</td><td>&quot;2017-02-18&quot;</td><td>&quot;2017-02-18&quot;</td><td>3</td></tr><tr><td>&quot;0x153685a03c20…</td><td>&quot;0xaf30d2a7e90d…</td><td>0.00066</td><td>0.0082632</td><td>0.1</td><td>&quot;2017-02-20&quot;</td><td>&quot;2017-02-20&quot;</td><td>1</td></tr><tr><td>&quot;0xff3f57a24a85…</td><td>&quot;0xac709fcb44a4…</td><td>0.135</td><td>1.72395</td><td>10.0</td><td>&quot;2017-02-21&quot;</td><td>&quot;2017-02-21&quot;</td><td>1</td></tr><tr><td>&hellip;</td><td>&hellip;</td><td>&hellip;</td><td>&hellip;</td><td>&hellip;</td><td>&hellip;</td><td>&hellip;</td><td>&hellip;</td></tr><tr><td>&quot;0x2be27dea7caf…</td><td>&quot;0x14cc8dfaf225…</td><td>0.0005</td><td>0.107775</td><td>1.0</td><td>&quot;2020-04-29&quot;</td><td>&quot;2020-04-29&quot;</td><td>1</td></tr><tr><td>&quot;0x95328d986307…</td><td>&quot;0xccbf21ba6ef0…</td><td>0.032791</td><td>7.068097</td><td>295.118895</td><td>&quot;2020-04-29&quot;</td><td>&quot;2020-04-29&quot;</td><td>2</td></tr><tr><td>&quot;0xeee058b27d8c…</td><td>&quot;0xcc6f15be8573…</td><td>0.000215</td><td>0.044975</td><td>1.075326</td><td>&quot;2020-04-30&quot;</td><td>&quot;2020-05-01&quot;</td><td>2</td></tr><tr><td>&quot;0x1c0fea2f5825…</td><td>&quot;0x17d67119a65d…</td><td>0.00111</td><td>0.237707</td><td>111.0</td><td>&quot;2020-05-02&quot;</td><td>&quot;2020-05-02&quot;</td><td>1</td></tr><tr><td>&quot;0xfb06bdde0ca4…</td><td>&quot;0x22767d7ca0c7…</td><td>0.265872</td><td>56.936489</td><td>120.0</td><td>&quot;2020-05-02&quot;</td><td>&quot;2020-05-02&quot;</td><td>2</td></tr></tbody></table></div>"
      ],
      "text/plain": [
       "shape: (7_138, 8)\n",
       "┌────────────┬────────────┬────────────┬────────────┬───────────┬───────────┬───────────┬──────────┐\n",
       "│ trader     ┆ token      ┆ tx_sum_eth ┆ tx_sum_dol ┆ tx_sum_to ┆ start_dat ┆ end_date  ┆ tx_count │\n",
       "│ ---        ┆ ---        ┆ ---        ┆ lar        ┆ ken       ┆ e         ┆ ---       ┆ ---      │\n",
       "│ str        ┆ str        ┆ f64        ┆ ---        ┆ ---       ┆ ---       ┆ str       ┆ i64      │\n",
       "│            ┆            ┆            ┆ f64        ┆ f64       ┆ str       ┆           ┆          │\n",
       "╞════════════╪════════════╪════════════╪════════════╪═══════════╪═══════════╪═══════════╪══════════╡\n",
       "│ 0x099c1ce9 ┆ 0xac709fcb ┆ 6.53775    ┆ 74.138085  ┆ 1895.0    ┆ 2017-02-1 ┆ 2017-02-1 ┆ 1        │\n",
       "│ f8e59e9ba9 ┆ 44a43c35f0 ┆            ┆            ┆           ┆ 0         ┆ 0         ┆          │\n",
       "│ 5f4f8dfc3a ┆ da4e3163b1 ┆            ┆            ┆           ┆           ┆           ┆          │\n",
       "│ 5e…        ┆ 17…        ┆            ┆            ┆           ┆           ┆           ┆          │\n",
       "│ 0xa2d1fb27 ┆ 0xd8912c10 ┆ 6.225436   ┆ 1516.11995 ┆ 168.83773 ┆ 2017-02-1 ┆ 2017-11-1 ┆ 12       │\n",
       "│ 6afdf61e98 ┆ 681d8b21fd ┆            ┆ 6          ┆ 5         ┆ 1         ┆ 3         ┆          │\n",
       "│ b5e0e185ed ┆ 3742244f44 ┆            ┆            ┆           ┆           ┆           ┆          │\n",
       "│ 5b…        ┆ 65…        ┆            ┆            ┆           ┆           ┆           ┆          │\n",
       "│ 0x92a8f4c4 ┆ 0xaf30d2a7 ┆ 0.645      ┆ 8.27535    ┆ 124.27745 ┆ 2017-02-1 ┆ 2017-02-1 ┆ 3        │\n",
       "│ 70e2c243e4 ┆ e90d7dc361 ┆            ┆            ┆ 7         ┆ 8         ┆ 8         ┆          │\n",
       "│ 8c14709dda ┆ c8c4585e9b ┆            ┆            ┆           ┆           ┆           ┆          │\n",
       "│ 90…        ┆ b7…        ┆            ┆            ┆           ┆           ┆           ┆          │\n",
       "│ 0x153685a0 ┆ 0xaf30d2a7 ┆ 0.00066    ┆ 0.0082632  ┆ 0.1       ┆ 2017-02-2 ┆ 2017-02-2 ┆ 1        │\n",
       "│ 3c2025b682 ┆ e90d7dc361 ┆            ┆            ┆           ┆ 0         ┆ 0         ┆          │\n",
       "│ 5ae164e2ff ┆ c8c4585e9b ┆            ┆            ┆           ┆           ┆           ┆          │\n",
       "│ 56…        ┆ b7…        ┆            ┆            ┆           ┆           ┆           ┆          │\n",
       "│ 0xff3f57a2 ┆ 0xac709fcb ┆ 0.135      ┆ 1.72395    ┆ 10.0      ┆ 2017-02-2 ┆ 2017-02-2 ┆ 1        │\n",
       "│ 4a85a2b23b ┆ 44a43c35f0 ┆            ┆            ┆           ┆ 1         ┆ 1         ┆          │\n",
       "│ de12ca8120 ┆ da4e3163b1 ┆            ┆            ┆           ┆           ┆           ┆          │\n",
       "│ 33…        ┆ 17…        ┆            ┆            ┆           ┆           ┆           ┆          │\n",
       "│ …          ┆ …          ┆ …          ┆ …          ┆ …         ┆ …         ┆ …         ┆ …        │\n",
       "│ 0x2be27dea ┆ 0x14cc8dfa ┆ 0.0005     ┆ 0.107775   ┆ 1.0       ┆ 2020-04-2 ┆ 2020-04-2 ┆ 1        │\n",
       "│ 7caf160e26 ┆ f2258e1b8b ┆            ┆            ┆           ┆ 9         ┆ 9         ┆          │\n",
       "│ 7769bb993b ┆ 2869300dba ┆            ┆            ┆           ┆           ┆           ┆          │\n",
       "│ 9e…        ┆ 1b…        ┆            ┆            ┆           ┆           ┆           ┆          │\n",
       "│ 0x95328d98 ┆ 0xccbf21ba ┆ 0.032791   ┆ 7.068097   ┆ 295.11889 ┆ 2020-04-2 ┆ 2020-04-2 ┆ 2        │\n",
       "│ 630779834f ┆ 6ef00802ab ┆            ┆            ┆ 5         ┆ 9         ┆ 9         ┆          │\n",
       "│ 3e46f78f90 ┆ 06637896b7 ┆            ┆            ┆           ┆           ┆           ┆          │\n",
       "│ 00…        ┆ 99…        ┆            ┆            ┆           ┆           ┆           ┆          │\n",
       "│ 0xeee058b2 ┆ 0xcc6f15be ┆ 0.000215   ┆ 0.044975   ┆ 1.075326  ┆ 2020-04-3 ┆ 2020-05-0 ┆ 2        │\n",
       "│ 7d8cdd7381 ┆ 8573cb8243 ┆            ┆            ┆           ┆ 0         ┆ 1         ┆          │\n",
       "│ 144d04ed27 ┆ c42d300565 ┆            ┆            ┆           ┆           ┆           ┆          │\n",
       "│ bb…        ┆ 56…        ┆            ┆            ┆           ┆           ┆           ┆          │\n",
       "│ 0x1c0fea2f ┆ 0x17d67119 ┆ 0.00111    ┆ 0.237707   ┆ 111.0     ┆ 2020-05-0 ┆ 2020-05-0 ┆ 1        │\n",
       "│ 58255e4ce3 ┆ a65d3de863 ┆            ┆            ┆           ┆ 2         ┆ 2         ┆          │\n",
       "│ 3d39cb5ee9 ┆ 84226efa9a ┆            ┆            ┆           ┆           ┆           ┆          │\n",
       "│ b8…        ┆ 18…        ┆            ┆            ┆           ┆           ┆           ┆          │\n",
       "│ 0xfb06bdde ┆ 0x22767d7c ┆ 0.265872   ┆ 56.936489  ┆ 120.0     ┆ 2020-05-0 ┆ 2020-05-0 ┆ 2        │\n",
       "│ 0ca40d0d8b ┆ a0c752338a ┆            ┆            ┆           ┆ 2         ┆ 2         ┆          │\n",
       "│ 77242145d1 ┆ e44f7156a5 ┆            ┆            ┆           ┆           ┆           ┆          │\n",
       "│ 15…        ┆ 00…        ┆            ┆            ┆           ┆           ┆           ┆          │\n",
       "└────────────┴────────────┴────────────┴────────────┴───────────┴───────────┴───────────┴──────────┘"
      ]
     },
     "execution_count": 8,
     "metadata": {},
     "output_type": "execute_result"
    }
   ],
   "source": [
    "pl.read_csv(self_trades_sum_path_new)"
   ]
  },
  {
   "cell_type": "markdown",
   "metadata": {},
   "source": [
    "## SCC"
   ]
  },
  {
   "cell_type": "code",
   "execution_count": 9,
   "metadata": {},
   "outputs": [],
   "source": [
    "scc_path_old = root_path_old + \"/scc.csv\"\n",
    "scc_path_new = root_path_new + \"/scc.csv\""
   ]
  },
  {
   "cell_type": "code",
   "execution_count": 10,
   "metadata": {},
   "outputs": [
    {
     "data": {
      "text/html": [
       "<div><style>\n",
       ".dataframe > thead > tr,\n",
       ".dataframe > tbody > tr {\n",
       "  text-align: right;\n",
       "  white-space: pre-wrap;\n",
       "}\n",
       "</style>\n",
       "<small>shape: (5_576, 3)</small><table border=\"1\" class=\"dataframe\"><thead><tr><th>scc_hash</th><th>occurrence</th><th>num_traders</th></tr><tr><td>i64</td><td>i64</td><td>i64</td></tr></thead><tbody><tr><td>1129897800</td><td>1</td><td>2</td></tr><tr><td>408134923</td><td>1</td><td>2</td></tr><tr><td>-1245863439</td><td>1</td><td>2</td></tr><tr><td>2061629098</td><td>1</td><td>2</td></tr><tr><td>1660133526</td><td>1</td><td>2</td></tr><tr><td>&hellip;</td><td>&hellip;</td><td>&hellip;</td></tr><tr><td>1847001433</td><td>511</td><td>2</td></tr><tr><td>430822907</td><td>512</td><td>2</td></tr><tr><td>2116522745</td><td>524</td><td>2</td></tr><tr><td>-1481534068</td><td>550</td><td>2</td></tr><tr><td>945933685</td><td>550</td><td>2</td></tr></tbody></table></div>"
      ],
      "text/plain": [
       "shape: (5_576, 3)\n",
       "┌─────────────┬────────────┬─────────────┐\n",
       "│ scc_hash    ┆ occurrence ┆ num_traders │\n",
       "│ ---         ┆ ---        ┆ ---         │\n",
       "│ i64         ┆ i64        ┆ i64         │\n",
       "╞═════════════╪════════════╪═════════════╡\n",
       "│ 1129897800  ┆ 1          ┆ 2           │\n",
       "│ 408134923   ┆ 1          ┆ 2           │\n",
       "│ -1245863439 ┆ 1          ┆ 2           │\n",
       "│ 2061629098  ┆ 1          ┆ 2           │\n",
       "│ 1660133526  ┆ 1          ┆ 2           │\n",
       "│ …           ┆ …          ┆ …           │\n",
       "│ 1847001433  ┆ 511        ┆ 2           │\n",
       "│ 430822907   ┆ 512        ┆ 2           │\n",
       "│ 2116522745  ┆ 524        ┆ 2           │\n",
       "│ -1481534068 ┆ 550        ┆ 2           │\n",
       "│ 945933685   ┆ 550        ┆ 2           │\n",
       "└─────────────┴────────────┴─────────────┘"
      ]
     },
     "execution_count": 10,
     "metadata": {},
     "output_type": "execute_result"
    }
   ],
   "source": [
    "pl.read_csv(scc_path_old).sort([\"occurrence\", \"num_traders\"])"
   ]
  },
  {
   "cell_type": "code",
   "execution_count": 11,
   "metadata": {},
   "outputs": [
    {
     "data": {
      "text/html": [
       "<div><style>\n",
       ".dataframe > thead > tr,\n",
       ".dataframe > tbody > tr {\n",
       "  text-align: right;\n",
       "  white-space: pre-wrap;\n",
       "}\n",
       "</style>\n",
       "<small>shape: (5_576, 3)</small><table border=\"1\" class=\"dataframe\"><thead><tr><th>scc_hash</th><th>occurrence</th><th>num_traders</th></tr><tr><td>str</td><td>i64</td><td>i64</td></tr></thead><tbody><tr><td>&quot;0025d498d8aa42…</td><td>1</td><td>2</td></tr><tr><td>&quot;0030cf4945e9ef…</td><td>1</td><td>2</td></tr><tr><td>&quot;0049875e4638c6…</td><td>1</td><td>2</td></tr><tr><td>&quot;00604ac66fbb51…</td><td>1</td><td>2</td></tr><tr><td>&quot;006b601f49cbd8…</td><td>1</td><td>2</td></tr><tr><td>&hellip;</td><td>&hellip;</td><td>&hellip;</td></tr><tr><td>&quot;d3fb4445f1b42b…</td><td>511</td><td>2</td></tr><tr><td>&quot;0bd663988da82f…</td><td>512</td><td>2</td></tr><tr><td>&quot;3d8a836ad8daf8…</td><td>524</td><td>2</td></tr><tr><td>&quot;00bdd13a458b21…</td><td>550</td><td>2</td></tr><tr><td>&quot;35a7f352635e8b…</td><td>550</td><td>2</td></tr></tbody></table></div>"
      ],
      "text/plain": [
       "shape: (5_576, 3)\n",
       "┌──────────────────────────────────┬────────────┬─────────────┐\n",
       "│ scc_hash                         ┆ occurrence ┆ num_traders │\n",
       "│ ---                              ┆ ---        ┆ ---         │\n",
       "│ str                              ┆ i64        ┆ i64         │\n",
       "╞══════════════════════════════════╪════════════╪═════════════╡\n",
       "│ 0025d498d8aa42fa36195252c5b1020b ┆ 1          ┆ 2           │\n",
       "│ 0030cf4945e9ef4ddb3950de09ee8b11 ┆ 1          ┆ 2           │\n",
       "│ 0049875e4638c68b8c03b527ee83ff27 ┆ 1          ┆ 2           │\n",
       "│ 00604ac66fbb516637894eb87050bdec ┆ 1          ┆ 2           │\n",
       "│ 006b601f49cbd82e3f9c01df607a52c4 ┆ 1          ┆ 2           │\n",
       "│ …                                ┆ …          ┆ …           │\n",
       "│ d3fb4445f1b42b47042293ce52c5630f ┆ 511        ┆ 2           │\n",
       "│ 0bd663988da82f63d46519197d3d4b0e ┆ 512        ┆ 2           │\n",
       "│ 3d8a836ad8daf8c88884fed0fd241b73 ┆ 524        ┆ 2           │\n",
       "│ 00bdd13a458b2142e165bebdf57e7c65 ┆ 550        ┆ 2           │\n",
       "│ 35a7f352635e8b0b99563a8a5f4d26ab ┆ 550        ┆ 2           │\n",
       "└──────────────────────────────────┴────────────┴─────────────┘"
      ]
     },
     "execution_count": 11,
     "metadata": {},
     "output_type": "execute_result"
    }
   ],
   "source": [
    "pl.read_csv(scc_path_new).sort([\"occurrence\", \"num_traders\"])"
   ]
  },
  {
   "cell_type": "code",
   "execution_count": 12,
   "metadata": {},
   "outputs": [],
   "source": [
    "scc_path_summery_old = root_path_old + \"/scc-mapping.csv\"\n",
    "scc_path_summery_new = root_path_new + \"/scc-mapping.csv\""
   ]
  },
  {
   "cell_type": "code",
   "execution_count": 13,
   "metadata": {},
   "outputs": [
    {
     "data": {
      "text/html": [
       "<div><style>\n",
       ".dataframe > thead > tr,\n",
       ".dataframe > tbody > tr {\n",
       "  text-align: right;\n",
       "  white-space: pre-wrap;\n",
       "}\n",
       "</style>\n",
       "<small>shape: (207_856, 2)</small><table border=\"1\" class=\"dataframe\"><thead><tr><th>hash</th><th>trader_id</th></tr><tr><td>i64</td><td>i64</td></tr></thead><tbody><tr><td>-102377776</td><td>3</td></tr><tr><td>-1036231034</td><td>3</td></tr><tr><td>-1054644665</td><td>3</td></tr><tr><td>-106075923</td><td>3</td></tr><tr><td>-1127441583</td><td>3</td></tr><tr><td>&hellip;</td><td>&hellip;</td></tr><tr><td>-962142680</td><td>323125</td></tr><tr><td>181933673</td><td>323129</td></tr><tr><td>-1909783249</td><td>323133</td></tr><tr><td>1248565436</td><td>323134</td></tr><tr><td>1852438291</td><td>323134</td></tr></tbody></table></div>"
      ],
      "text/plain": [
       "shape: (207_856, 2)\n",
       "┌─────────────┬───────────┐\n",
       "│ hash        ┆ trader_id │\n",
       "│ ---         ┆ ---       │\n",
       "│ i64         ┆ i64       │\n",
       "╞═════════════╪═══════════╡\n",
       "│ -102377776  ┆ 3         │\n",
       "│ -1036231034 ┆ 3         │\n",
       "│ -1054644665 ┆ 3         │\n",
       "│ -106075923  ┆ 3         │\n",
       "│ -1127441583 ┆ 3         │\n",
       "│ …           ┆ …         │\n",
       "│ -962142680  ┆ 323125    │\n",
       "│ 181933673   ┆ 323129    │\n",
       "│ -1909783249 ┆ 323133    │\n",
       "│ 1248565436  ┆ 323134    │\n",
       "│ 1852438291  ┆ 323134    │\n",
       "└─────────────┴───────────┘"
      ]
     },
     "execution_count": 13,
     "metadata": {},
     "output_type": "execute_result"
    }
   ],
   "source": [
    "pl.read_csv(scc_path_summery_old).sort(\"trader_id\")"
   ]
  },
  {
   "cell_type": "code",
   "execution_count": 14,
   "metadata": {},
   "outputs": [
    {
     "data": {
      "text/html": [
       "<div><style>\n",
       ".dataframe > thead > tr,\n",
       ".dataframe > tbody > tr {\n",
       "  text-align: right;\n",
       "  white-space: pre-wrap;\n",
       "}\n",
       "</style>\n",
       "<small>shape: (207_856, 2)</small><table border=\"1\" class=\"dataframe\"><thead><tr><th>hash</th><th>trader_id</th></tr><tr><td>str</td><td>i64</td></tr></thead><tbody><tr><td>&quot;e6620caa6f5323…</td><td>3</td></tr><tr><td>&quot;72bacd33a70d52…</td><td>3</td></tr><tr><td>&quot;6a18f2c0d5eec9…</td><td>3</td></tr><tr><td>&quot;1c96723dd82971…</td><td>3</td></tr><tr><td>&quot;cbdc840ebed523…</td><td>3</td></tr><tr><td>&hellip;</td><td>&hellip;</td></tr><tr><td>&quot;5b0ac87e13bf22…</td><td>323125</td></tr><tr><td>&quot;f01bfcc2100208…</td><td>323129</td></tr><tr><td>&quot;467b452ba73019…</td><td>323133</td></tr><tr><td>&quot;b7c05ccee8a86f…</td><td>323134</td></tr><tr><td>&quot;1845e399a1e884…</td><td>323134</td></tr></tbody></table></div>"
      ],
      "text/plain": [
       "shape: (207_856, 2)\n",
       "┌──────────────────────────────────┬───────────┐\n",
       "│ hash                             ┆ trader_id │\n",
       "│ ---                              ┆ ---       │\n",
       "│ str                              ┆ i64       │\n",
       "╞══════════════════════════════════╪═══════════╡\n",
       "│ e6620caa6f5323f176a6c04edcc3e329 ┆ 3         │\n",
       "│ 72bacd33a70d528d27536b9620741878 ┆ 3         │\n",
       "│ 6a18f2c0d5eec9db8824cdb3e7fbcbf1 ┆ 3         │\n",
       "│ 1c96723dd82971e5b1253acc1aac71de ┆ 3         │\n",
       "│ cbdc840ebed5238eb0512051f419f36e ┆ 3         │\n",
       "│ …                                ┆ …         │\n",
       "│ 5b0ac87e13bf221c425d2bf5ede864d7 ┆ 323125    │\n",
       "│ f01bfcc210020872275e06625cc93e3c ┆ 323129    │\n",
       "│ 467b452ba730199ce951013db40d4fec ┆ 323133    │\n",
       "│ b7c05ccee8a86f6281567739406af312 ┆ 323134    │\n",
       "│ 1845e399a1e884312e4203826693832c ┆ 323134    │\n",
       "└──────────────────────────────────┴───────────┘"
      ]
     },
     "execution_count": 14,
     "metadata": {},
     "output_type": "execute_result"
    }
   ],
   "source": [
    "pl.read_csv(scc_path_summery_new).sort(\"trader_id\")"
   ]
  },
  {
   "cell_type": "markdown",
   "metadata": {},
   "source": [
    "## Wash Trades"
   ]
  },
  {
   "cell_type": "code",
   "execution_count": 15,
   "metadata": {},
   "outputs": [],
   "source": [
    "trades_labeled_path_old = root_path_old + \"/trades_labeled.csv\"\n",
    "trades_labeled_path_new = root_path_new + \"/trades_labeled.csv\""
   ]
  },
  {
   "cell_type": "code",
   "execution_count": 16,
   "metadata": {},
   "outputs": [
    {
     "data": {
      "text/html": [
       "<div><style>\n",
       ".dataframe > thead > tr,\n",
       ".dataframe > tbody > tr {\n",
       "  text-align: right;\n",
       "  white-space: pre-wrap;\n",
       "}\n",
       "</style>\n",
       "<small>shape: (3_514_721, 16)</small><table border=\"1\" class=\"dataframe\"><thead><tr><th>eth_seller</th><th>eth_buyer</th><th>date</th><th>cut</th><th>blockNumber</th><th>timestamp</th><th>transactionHash</th><th>ether</th><th>token</th><th>trade_amount_eth</th><th>trade_amount_dollar</th><th>trade_amount_token</th><th>token_price_in_eth</th><th>eth_buyer_id</th><th>eth_seller_id</th><th>wash_label</th></tr><tr><td>str</td><td>str</td><td>str</td><td>i64</td><td>i64</td><td>i64</td><td>str</td><td>str</td><td>str</td><td>f64</td><td>f64</td><td>f64</td><td>f64</td><td>i64</td><td>i64</td><td>str</td></tr></thead><tbody><tr><td>&quot;0xd8eeda4ee265…</td><td>&quot;0x1ed014aec47f…</td><td>&quot;2017-02-09&quot;</td><td>1486598400</td><td>3154485</td><td>1486684605</td><td>&quot;0x48332867933b…</td><td>&quot;0x000000000000…</td><td>&quot;0xac709fcb44a4…</td><td>4.001262</td><td>43.773803</td><td>726.181805</td><td>0.00551</td><td>40228</td><td>274108</td><td>null</td></tr><tr><td>&quot;0x15402e0da76d…</td><td>&quot;0x7d7a96a72039…</td><td>&quot;2017-02-10&quot;</td><td>1486684800</td><td>3156277</td><td>1486709956</td><td>&quot;0x3db87f8a18ce…</td><td>&quot;0x000000000000…</td><td>&quot;0xac709fcb44a4…</td><td>0.1</td><td>1.134</td><td>10.0</td><td>0.01</td><td>159290</td><td>28156</td><td>null</td></tr><tr><td>&quot;0xf448f03fbdd8…</td><td>&quot;0x68476977382d…</td><td>&quot;2017-02-10&quot;</td><td>1486684800</td><td>3158802</td><td>1486746419</td><td>&quot;0x42c92f87034a…</td><td>&quot;0x000000000000…</td><td>&quot;0xd8912c10681d…</td><td>26.70661</td><td>302.852952</td><td>219.320108</td><td>0.12177</td><td>132671</td><td>308395</td><td>null</td></tr><tr><td>&quot;0xb20dbf18dbab…</td><td>&quot;0x7d7a96a72039…</td><td>&quot;2017-02-10&quot;</td><td>1486684800</td><td>3158964</td><td>1486748652</td><td>&quot;0x0c7d0a921296…</td><td>&quot;0x000000000000…</td><td>&quot;0xac709fcb44a4…</td><td>0.358788</td><td>4.068653</td><td>58.817665</td><td>0.0061</td><td>159290</td><td>225470</td><td>null</td></tr><tr><td>&quot;0xb6346451d547…</td><td>&quot;0xa2d1fb276afd…</td><td>&quot;2017-02-10&quot;</td><td>1486684800</td><td>3159435</td><td>1486755100</td><td>&quot;0x1f2990b8fe24…</td><td>&quot;0x000000000000…</td><td>&quot;0xd8912c10681d…</td><td>0.984</td><td>11.15856</td><td>8.0</td><td>0.123</td><td>206446</td><td>230734</td><td>null</td></tr><tr><td>&hellip;</td><td>&hellip;</td><td>&hellip;</td><td>&hellip;</td><td>&hellip;</td><td>&hellip;</td><td>&hellip;</td><td>&hellip;</td><td>&hellip;</td><td>&hellip;</td><td>&hellip;</td><td>&hellip;</td><td>&hellip;</td><td>&hellip;</td><td>&hellip;</td><td>&hellip;</td></tr><tr><td>&quot;0x2e5f18eb5da1…</td><td>&quot;0xa6e96dbb6b7d…</td><td>&quot;2020-05-04&quot;</td><td>1588550400</td><td>9999896</td><td>1588597083</td><td>&quot;0xa9a8c1d2d6d4…</td><td>&quot;0x000000000000…</td><td>&quot;0x5ae655088e79…</td><td>2.769</td><td>573.01686</td><td>2769.0</td><td>0.001</td><td>211485</td><td>59866</td><td>null</td></tr><tr><td>&quot;0x4356ddb30910…</td><td>&quot;0x1c0fea2f5825…</td><td>&quot;2020-05-04&quot;</td><td>1588550400</td><td>9999899</td><td>1588597100</td><td>&quot;0xff4d67b8f966…</td><td>&quot;0x000000000000…</td><td>&quot;0x17d67119a65d…</td><td>0.026</td><td>5.38044</td><td>13000.0</td><td>0.000002</td><td>36731</td><td>86344</td><td>null</td></tr><tr><td>&quot;0xe3422b5dd5a1…</td><td>&quot;0x03692057fe75…</td><td>&quot;2020-05-04&quot;</td><td>1588550400</td><td>9999899</td><td>1588597100</td><td>&quot;0xb50ca1a3e7d3…</td><td>&quot;0x000000000000…</td><td>&quot;0xc42209accc14…</td><td>0.01453</td><td>3.006915</td><td>180.726</td><td>0.0000804</td><td>5585</td><td>287070</td><td>null</td></tr><tr><td>&quot;0xd70d2326e7cf…</td><td>&quot;0xdce945442fab…</td><td>&quot;2020-05-04&quot;</td><td>1588550400</td><td>9999938</td><td>1588597656</td><td>&quot;0x75683d22f03f…</td><td>&quot;0x000000000000…</td><td>&quot;0x076c97e1c869…</td><td>0.00527</td><td>1.090539</td><td>170.0</td><td>0.000031</td><td>279107</td><td>271781</td><td>null</td></tr><tr><td>&quot;0x85e80b974d4b…</td><td>&quot;0xc3b6d4a06373…</td><td>&quot;2020-05-04&quot;</td><td>1588550400</td><td>9999999</td><td>1588598530</td><td>&quot;0x77f7f5f3155a…</td><td>&quot;0x000000000000…</td><td>&quot;0x12b306fa98f4…</td><td>0.78639</td><td>162.735547</td><td>1100.0</td><td>0.0007149</td><td>247603</td><td>170178</td><td>null</td></tr></tbody></table></div>"
      ],
      "text/plain": [
       "shape: (3_514_721, 16)\n",
       "┌───────────┬───────────┬───────────┬───────────┬───┬───────────┬───────────┬───────────┬──────────┐\n",
       "│ eth_selle ┆ eth_buyer ┆ date      ┆ cut       ┆ … ┆ token_pri ┆ eth_buyer ┆ eth_selle ┆ wash_lab │\n",
       "│ r         ┆ ---       ┆ ---       ┆ ---       ┆   ┆ ce_in_eth ┆ _id       ┆ r_id      ┆ el       │\n",
       "│ ---       ┆ str       ┆ str       ┆ i64       ┆   ┆ ---       ┆ ---       ┆ ---       ┆ ---      │\n",
       "│ str       ┆           ┆           ┆           ┆   ┆ f64       ┆ i64       ┆ i64       ┆ str      │\n",
       "╞═══════════╪═══════════╪═══════════╪═══════════╪═══╪═══════════╪═══════════╪═══════════╪══════════╡\n",
       "│ 0xd8eeda4 ┆ 0x1ed014a ┆ 2017-02-0 ┆ 148659840 ┆ … ┆ 0.00551   ┆ 40228     ┆ 274108    ┆ null     │\n",
       "│ ee2657bb2 ┆ ec47fae44 ┆ 9         ┆ 0         ┆   ┆           ┆           ┆           ┆          │\n",
       "│ 67bc35c1d ┆ c9e55bac7 ┆           ┆           ┆   ┆           ┆           ┆           ┆          │\n",
       "│ 60bab…    ┆ 662c0…    ┆           ┆           ┆   ┆           ┆           ┆           ┆          │\n",
       "│ 0x15402e0 ┆ 0x7d7a96a ┆ 2017-02-1 ┆ 148668480 ┆ … ┆ 0.01      ┆ 159290    ┆ 28156     ┆ null     │\n",
       "│ da76df339 ┆ 720396bb2 ┆ 0         ┆ 0         ┆   ┆           ┆           ┆           ┆          │\n",
       "│ 268d70c99 ┆ 268157854 ┆           ┆           ┆   ┆           ┆           ┆           ┆          │\n",
       "│ ac7c5…    ┆ 5c568…    ┆           ┆           ┆   ┆           ┆           ┆           ┆          │\n",
       "│ 0xf448f03 ┆ 0x6847697 ┆ 2017-02-1 ┆ 148668480 ┆ … ┆ 0.12177   ┆ 132671    ┆ 308395    ┆ null     │\n",
       "│ fbdd8364d ┆ 7382d9cb8 ┆ 0         ┆ 0         ┆   ┆           ┆           ┆           ┆          │\n",
       "│ 6c990aad1 ┆ 5d11775b7 ┆           ┆           ┆   ┆           ┆           ┆           ┆          │\n",
       "│ c9bf2…    ┆ 9252e…    ┆           ┆           ┆   ┆           ┆           ┆           ┆          │\n",
       "│ 0xb20dbf1 ┆ 0x7d7a96a ┆ 2017-02-1 ┆ 148668480 ┆ … ┆ 0.0061    ┆ 159290    ┆ 225470    ┆ null     │\n",
       "│ 8dbabb89d ┆ 720396bb2 ┆ 0         ┆ 0         ┆   ┆           ┆           ┆           ┆          │\n",
       "│ e6c6c2f9d ┆ 268157854 ┆           ┆           ┆   ┆           ┆           ┆           ┆          │\n",
       "│ 12b14…    ┆ 5c568…    ┆           ┆           ┆   ┆           ┆           ┆           ┆          │\n",
       "│ 0xb634645 ┆ 0xa2d1fb2 ┆ 2017-02-1 ┆ 148668480 ┆ … ┆ 0.123     ┆ 206446    ┆ 230734    ┆ null     │\n",
       "│ 1d5477a81 ┆ 76afdf61e ┆ 0         ┆ 0         ┆   ┆           ┆           ┆           ┆          │\n",
       "│ 3e1564fae ┆ 98b5e0e18 ┆           ┆           ┆   ┆           ┆           ┆           ┆          │\n",
       "│ e0121…    ┆ 5ed5b…    ┆           ┆           ┆   ┆           ┆           ┆           ┆          │\n",
       "│ …         ┆ …         ┆ …         ┆ …         ┆ … ┆ …         ┆ …         ┆ …         ┆ …        │\n",
       "│ 0x2e5f18e ┆ 0xa6e96db ┆ 2020-05-0 ┆ 158855040 ┆ … ┆ 0.001     ┆ 211485    ┆ 59866     ┆ null     │\n",
       "│ b5da1e196 ┆ b6b7d2c12 ┆ 4         ┆ 0         ┆   ┆           ┆           ┆           ┆          │\n",
       "│ bc502b36b ┆ 062e70d3d ┆           ┆           ┆   ┆           ┆           ┆           ┆          │\n",
       "│ b448d…    ┆ ec87c…    ┆           ┆           ┆   ┆           ┆           ┆           ┆          │\n",
       "│ 0x4356ddb ┆ 0x1c0fea2 ┆ 2020-05-0 ┆ 158855040 ┆ … ┆ 0.000002  ┆ 36731     ┆ 86344     ┆ null     │\n",
       "│ 30910c1f9 ┆ f58255e4c ┆ 4         ┆ 0         ┆   ┆           ┆           ┆           ┆          │\n",
       "│ b3aa1e6a6 ┆ e33d39cb5 ┆           ┆           ┆   ┆           ┆           ┆           ┆          │\n",
       "│ 0111c…    ┆ ee9b8…    ┆           ┆           ┆   ┆           ┆           ┆           ┆          │\n",
       "│ 0xe3422b5 ┆ 0x0369205 ┆ 2020-05-0 ┆ 158855040 ┆ … ┆ 0.0000804 ┆ 5585      ┆ 287070    ┆ null     │\n",
       "│ dd5a1ae34 ┆ 7fe752bc6 ┆ 4         ┆ 0         ┆   ┆           ┆           ┆           ┆          │\n",
       "│ d5cdff3b1 ┆ 781f4e39e ┆           ┆           ┆   ┆           ┆           ┆           ┆          │\n",
       "│ c84e6…    ┆ 7bcdd…    ┆           ┆           ┆   ┆           ┆           ┆           ┆          │\n",
       "│ 0xd70d232 ┆ 0xdce9454 ┆ 2020-05-0 ┆ 158855040 ┆ … ┆ 0.000031  ┆ 279107    ┆ 271781    ┆ null     │\n",
       "│ 6e7cffece ┆ 42fab918c ┆ 4         ┆ 0         ┆   ┆           ┆           ┆           ┆          │\n",
       "│ af629928d ┆ 2fa35e4d1 ┆           ┆           ┆   ┆           ┆           ┆           ┆          │\n",
       "│ 37dfd…    ┆ 41364…    ┆           ┆           ┆   ┆           ┆           ┆           ┆          │\n",
       "│ 0x85e80b9 ┆ 0xc3b6d4a ┆ 2020-05-0 ┆ 158855040 ┆ … ┆ 0.0007149 ┆ 247603    ┆ 170178    ┆ null     │\n",
       "│ 74d4b9a86 ┆ 0637379b5 ┆ 4         ┆ 0         ┆   ┆           ┆           ┆           ┆          │\n",
       "│ d91ea175f ┆ f52c129be ┆           ┆           ┆   ┆           ┆           ┆           ┆          │\n",
       "│ 6ea36…    ┆ 0fb63…    ┆           ┆           ┆   ┆           ┆           ┆           ┆          │\n",
       "└───────────┴───────────┴───────────┴───────────┴───┴───────────┴───────────┴───────────┴──────────┘"
      ]
     },
     "execution_count": 16,
     "metadata": {},
     "output_type": "execute_result"
    }
   ],
   "source": [
    "pl.read_csv(trades_labeled_path_old)"
   ]
  },
  {
   "cell_type": "code",
   "execution_count": 17,
   "metadata": {},
   "outputs": [
    {
     "data": {
      "text/html": [
       "<div><style>\n",
       ".dataframe > thead > tr,\n",
       ".dataframe > tbody > tr {\n",
       "  text-align: right;\n",
       "  white-space: pre-wrap;\n",
       "}\n",
       "</style>\n",
       "<small>shape: (3_514_721, 16)</small><table border=\"1\" class=\"dataframe\"><thead><tr><th>date</th><th>cut</th><th>blockNumber</th><th>timestamp</th><th>transactionHash</th><th>eth_buyer</th><th>eth_seller</th><th>ether</th><th>token</th><th>trade_amount_eth</th><th>trade_amount_dollar</th><th>trade_amount_token</th><th>token_price_in_eth</th><th>eth_buyer_id</th><th>eth_seller_id</th><th>wash_label</th></tr><tr><td>str</td><td>f64</td><td>i64</td><td>i64</td><td>str</td><td>str</td><td>str</td><td>str</td><td>str</td><td>f64</td><td>f64</td><td>f64</td><td>f64</td><td>i64</td><td>i64</td><td>str</td></tr></thead><tbody><tr><td>&quot;2017-02-09T00:…</td><td>1.4866e9</td><td>3154485</td><td>1486684605</td><td>&quot;0x48332867933b…</td><td>&quot;0x1ed014aec47f…</td><td>&quot;0xd8eeda4ee265…</td><td>&quot;0x000000000000…</td><td>&quot;0xac709fcb44a4…</td><td>4.001262</td><td>43.773803</td><td>726.181805</td><td>0.00551</td><td>40228</td><td>274108</td><td>null</td></tr><tr><td>&quot;2017-02-10T00:…</td><td>1.4867e9</td><td>3156277</td><td>1486709956</td><td>&quot;0x3db87f8a18ce…</td><td>&quot;0x7d7a96a72039…</td><td>&quot;0x15402e0da76d…</td><td>&quot;0x000000000000…</td><td>&quot;0xac709fcb44a4…</td><td>0.1</td><td>1.134</td><td>10.0</td><td>0.01</td><td>159290</td><td>28156</td><td>null</td></tr><tr><td>&quot;2017-02-10T00:…</td><td>1.4867e9</td><td>3158802</td><td>1486746419</td><td>&quot;0x42c92f87034a…</td><td>&quot;0x68476977382d…</td><td>&quot;0xf448f03fbdd8…</td><td>&quot;0x000000000000…</td><td>&quot;0xd8912c10681d…</td><td>26.70661</td><td>302.852952</td><td>219.320108</td><td>0.12177</td><td>132671</td><td>308395</td><td>null</td></tr><tr><td>&quot;2017-02-10T00:…</td><td>1.4867e9</td><td>3158964</td><td>1486748652</td><td>&quot;0x0c7d0a921296…</td><td>&quot;0x7d7a96a72039…</td><td>&quot;0xb20dbf18dbab…</td><td>&quot;0x000000000000…</td><td>&quot;0xac709fcb44a4…</td><td>0.358788</td><td>4.068653</td><td>58.817665</td><td>0.0061</td><td>159290</td><td>225470</td><td>null</td></tr><tr><td>&quot;2017-02-10T00:…</td><td>1.4867e9</td><td>3159435</td><td>1486755100</td><td>&quot;0x1f2990b8fe24…</td><td>&quot;0xa2d1fb276afd…</td><td>&quot;0xb6346451d547…</td><td>&quot;0x000000000000…</td><td>&quot;0xd8912c10681d…</td><td>0.984</td><td>11.15856</td><td>8.0</td><td>0.123</td><td>206446</td><td>230734</td><td>null</td></tr><tr><td>&hellip;</td><td>&hellip;</td><td>&hellip;</td><td>&hellip;</td><td>&hellip;</td><td>&hellip;</td><td>&hellip;</td><td>&hellip;</td><td>&hellip;</td><td>&hellip;</td><td>&hellip;</td><td>&hellip;</td><td>&hellip;</td><td>&hellip;</td><td>&hellip;</td><td>&hellip;</td></tr><tr><td>&quot;2020-05-04T00:…</td><td>1.5886e9</td><td>9999896</td><td>1588597083</td><td>&quot;0xa9a8c1d2d6d4…</td><td>&quot;0xa6e96dbb6b7d…</td><td>&quot;0x2e5f18eb5da1…</td><td>&quot;0x000000000000…</td><td>&quot;0x5ae655088e79…</td><td>2.769</td><td>573.01686</td><td>2769.0</td><td>0.001</td><td>211485</td><td>59866</td><td>null</td></tr><tr><td>&quot;2020-05-04T00:…</td><td>1.5886e9</td><td>9999899</td><td>1588597100</td><td>&quot;0xb50ca1a3e7d3…</td><td>&quot;0x03692057fe75…</td><td>&quot;0xe3422b5dd5a1…</td><td>&quot;0x000000000000…</td><td>&quot;0xc42209accc14…</td><td>0.01453</td><td>3.006915</td><td>180.726</td><td>0.0000804</td><td>5585</td><td>287070</td><td>null</td></tr><tr><td>&quot;2020-05-04T00:…</td><td>1.5886e9</td><td>9999899</td><td>1588597100</td><td>&quot;0xff4d67b8f966…</td><td>&quot;0x1c0fea2f5825…</td><td>&quot;0x4356ddb30910…</td><td>&quot;0x000000000000…</td><td>&quot;0x17d67119a65d…</td><td>0.026</td><td>5.38044</td><td>13000.0</td><td>0.000002</td><td>36731</td><td>86344</td><td>null</td></tr><tr><td>&quot;2020-05-04T00:…</td><td>1.5886e9</td><td>9999938</td><td>1588597656</td><td>&quot;0x75683d22f03f…</td><td>&quot;0xdce945442fab…</td><td>&quot;0xd70d2326e7cf…</td><td>&quot;0x000000000000…</td><td>&quot;0x076c97e1c869…</td><td>0.00527</td><td>1.090539</td><td>170.0</td><td>0.000031</td><td>279107</td><td>271781</td><td>null</td></tr><tr><td>&quot;2020-05-04T00:…</td><td>1.5886e9</td><td>9999999</td><td>1588598530</td><td>&quot;0x77f7f5f3155a…</td><td>&quot;0xc3b6d4a06373…</td><td>&quot;0x85e80b974d4b…</td><td>&quot;0x000000000000…</td><td>&quot;0x12b306fa98f4…</td><td>0.78639</td><td>162.735547</td><td>1100.0</td><td>0.0007149</td><td>247603</td><td>170178</td><td>null</td></tr></tbody></table></div>"
      ],
      "text/plain": [
       "shape: (3_514_721, 16)\n",
       "┌───────────┬──────────┬───────────┬───────────┬───┬───────────┬───────────┬───────────┬───────────┐\n",
       "│ date      ┆ cut      ┆ blockNumb ┆ timestamp ┆ … ┆ token_pri ┆ eth_buyer ┆ eth_selle ┆ wash_labe │\n",
       "│ ---       ┆ ---      ┆ er        ┆ ---       ┆   ┆ ce_in_eth ┆ _id       ┆ r_id      ┆ l         │\n",
       "│ str       ┆ f64      ┆ ---       ┆ i64       ┆   ┆ ---       ┆ ---       ┆ ---       ┆ ---       │\n",
       "│           ┆          ┆ i64       ┆           ┆   ┆ f64       ┆ i64       ┆ i64       ┆ str       │\n",
       "╞═══════════╪══════════╪═══════════╪═══════════╪═══╪═══════════╪═══════════╪═══════════╪═══════════╡\n",
       "│ 2017-02-0 ┆ 1.4866e9 ┆ 3154485   ┆ 148668460 ┆ … ┆ 0.00551   ┆ 40228     ┆ 274108    ┆ null      │\n",
       "│ 9T00:00:0 ┆          ┆           ┆ 5         ┆   ┆           ┆           ┆           ┆           │\n",
       "│ 0.0000000 ┆          ┆           ┆           ┆   ┆           ┆           ┆           ┆           │\n",
       "│ 00        ┆          ┆           ┆           ┆   ┆           ┆           ┆           ┆           │\n",
       "│ 2017-02-1 ┆ 1.4867e9 ┆ 3156277   ┆ 148670995 ┆ … ┆ 0.01      ┆ 159290    ┆ 28156     ┆ null      │\n",
       "│ 0T00:00:0 ┆          ┆           ┆ 6         ┆   ┆           ┆           ┆           ┆           │\n",
       "│ 0.0000000 ┆          ┆           ┆           ┆   ┆           ┆           ┆           ┆           │\n",
       "│ 00        ┆          ┆           ┆           ┆   ┆           ┆           ┆           ┆           │\n",
       "│ 2017-02-1 ┆ 1.4867e9 ┆ 3158802   ┆ 148674641 ┆ … ┆ 0.12177   ┆ 132671    ┆ 308395    ┆ null      │\n",
       "│ 0T00:00:0 ┆          ┆           ┆ 9         ┆   ┆           ┆           ┆           ┆           │\n",
       "│ 0.0000000 ┆          ┆           ┆           ┆   ┆           ┆           ┆           ┆           │\n",
       "│ 00        ┆          ┆           ┆           ┆   ┆           ┆           ┆           ┆           │\n",
       "│ 2017-02-1 ┆ 1.4867e9 ┆ 3158964   ┆ 148674865 ┆ … ┆ 0.0061    ┆ 159290    ┆ 225470    ┆ null      │\n",
       "│ 0T00:00:0 ┆          ┆           ┆ 2         ┆   ┆           ┆           ┆           ┆           │\n",
       "│ 0.0000000 ┆          ┆           ┆           ┆   ┆           ┆           ┆           ┆           │\n",
       "│ 00        ┆          ┆           ┆           ┆   ┆           ┆           ┆           ┆           │\n",
       "│ 2017-02-1 ┆ 1.4867e9 ┆ 3159435   ┆ 148675510 ┆ … ┆ 0.123     ┆ 206446    ┆ 230734    ┆ null      │\n",
       "│ 0T00:00:0 ┆          ┆           ┆ 0         ┆   ┆           ┆           ┆           ┆           │\n",
       "│ 0.0000000 ┆          ┆           ┆           ┆   ┆           ┆           ┆           ┆           │\n",
       "│ 00        ┆          ┆           ┆           ┆   ┆           ┆           ┆           ┆           │\n",
       "│ …         ┆ …        ┆ …         ┆ …         ┆ … ┆ …         ┆ …         ┆ …         ┆ …         │\n",
       "│ 2020-05-0 ┆ 1.5886e9 ┆ 9999896   ┆ 158859708 ┆ … ┆ 0.001     ┆ 211485    ┆ 59866     ┆ null      │\n",
       "│ 4T00:00:0 ┆          ┆           ┆ 3         ┆   ┆           ┆           ┆           ┆           │\n",
       "│ 0.0000000 ┆          ┆           ┆           ┆   ┆           ┆           ┆           ┆           │\n",
       "│ 00        ┆          ┆           ┆           ┆   ┆           ┆           ┆           ┆           │\n",
       "│ 2020-05-0 ┆ 1.5886e9 ┆ 9999899   ┆ 158859710 ┆ … ┆ 0.0000804 ┆ 5585      ┆ 287070    ┆ null      │\n",
       "│ 4T00:00:0 ┆          ┆           ┆ 0         ┆   ┆           ┆           ┆           ┆           │\n",
       "│ 0.0000000 ┆          ┆           ┆           ┆   ┆           ┆           ┆           ┆           │\n",
       "│ 00        ┆          ┆           ┆           ┆   ┆           ┆           ┆           ┆           │\n",
       "│ 2020-05-0 ┆ 1.5886e9 ┆ 9999899   ┆ 158859710 ┆ … ┆ 0.000002  ┆ 36731     ┆ 86344     ┆ null      │\n",
       "│ 4T00:00:0 ┆          ┆           ┆ 0         ┆   ┆           ┆           ┆           ┆           │\n",
       "│ 0.0000000 ┆          ┆           ┆           ┆   ┆           ┆           ┆           ┆           │\n",
       "│ 00        ┆          ┆           ┆           ┆   ┆           ┆           ┆           ┆           │\n",
       "│ 2020-05-0 ┆ 1.5886e9 ┆ 9999938   ┆ 158859765 ┆ … ┆ 0.000031  ┆ 279107    ┆ 271781    ┆ null      │\n",
       "│ 4T00:00:0 ┆          ┆           ┆ 6         ┆   ┆           ┆           ┆           ┆           │\n",
       "│ 0.0000000 ┆          ┆           ┆           ┆   ┆           ┆           ┆           ┆           │\n",
       "│ 00        ┆          ┆           ┆           ┆   ┆           ┆           ┆           ┆           │\n",
       "│ 2020-05-0 ┆ 1.5886e9 ┆ 9999999   ┆ 158859853 ┆ … ┆ 0.0007149 ┆ 247603    ┆ 170178    ┆ null      │\n",
       "│ 4T00:00:0 ┆          ┆           ┆ 0         ┆   ┆           ┆           ┆           ┆           │\n",
       "│ 0.0000000 ┆          ┆           ┆           ┆   ┆           ┆           ┆           ┆           │\n",
       "│ 00        ┆          ┆           ┆           ┆   ┆           ┆           ┆           ┆           │\n",
       "└───────────┴──────────┴───────────┴───────────┴───┴───────────┴───────────┴───────────┴───────────┘"
      ]
     },
     "execution_count": 17,
     "metadata": {},
     "output_type": "execute_result"
    }
   ],
   "source": [
    "pl.read_csv(trades_labeled_path_new)"
   ]
  },
  {
   "cell_type": "code",
   "execution_count": 18,
   "metadata": {},
   "outputs": [
    {
     "name": "stdout",
     "output_type": "stream",
     "text": [
      "3483422\n",
      "3483422\n"
     ]
    }
   ],
   "source": [
    "print(pl.read_csv(trades_labeled_path_old)['wash_label'].null_count())\n",
    "print(pl.read_csv(trades_labeled_path_new)['wash_label'].null_count())"
   ]
  },
  {
   "cell_type": "code",
   "execution_count": 19,
   "metadata": {},
   "outputs": [
    {
     "name": "stdout",
     "output_type": "stream",
     "text": [
      "10920\n",
      "10950\n"
     ]
    }
   ],
   "source": [
    "print(len(pl.read_csv(trades_labeled_path_old).filter(pl.col.wash_label == 'TRUE')))\n",
    "print(len(pl.read_csv(trades_labeled_path_new).filter(pl.col.wash_label == 'true')))"
   ]
  },
  {
   "cell_type": "code",
   "execution_count": 20,
   "metadata": {},
   "outputs": [
    {
     "name": "stdout",
     "output_type": "stream",
     "text": [
      "20379\n",
      "20349\n"
     ]
    }
   ],
   "source": [
    "print(len(pl.read_csv(trades_labeled_path_old).filter(pl.col.wash_label == 'FALSE')))\n",
    "print(len(pl.read_csv(trades_labeled_path_new).filter(pl.col.wash_label == 'false')))"
   ]
  },
  {
   "cell_type": "code",
   "execution_count": 21,
   "metadata": {},
   "outputs": [],
   "source": [
    "wash_trade_sum_path_old = root_path_old + \"/wash_trades_summary_multiple_windows.csv\"\n",
    "wash_trade_sum_path_new = root_path_new + \"/wash_trades_summary_multiple_windows.csv\""
   ]
  },
  {
   "cell_type": "code",
   "execution_count": 22,
   "metadata": {},
   "outputs": [
    {
     "data": {
      "text/html": [
       "<div><style>\n",
       ".dataframe > thead > tr,\n",
       ".dataframe > tbody > tr {\n",
       "  text-align: right;\n",
       "  white-space: pre-wrap;\n",
       "}\n",
       "</style>\n",
       "<small>shape: (11_546, 10)</small><table border=\"1\" class=\"dataframe\"><thead><tr><th>scc_hash</th><th>token</th><th>window_size</th><th>time</th><th>num_wash_trades</th><th>num_trades</th><th>total_amount_wash</th><th>total_amount</th><th>total_amount_dollar_wash</th><th>total_amount_dollar</th></tr><tr><td>i64</td><td>str</td><td>i64</td><td>str</td><td>i64</td><td>i64</td><td>f64</td><td>f64</td><td>f64</td><td>f64</td></tr></thead><tbody><tr><td>945933685</td><td>&quot;0x8ce9411df545…</td><td>3600</td><td>&quot;[1514293200,15…</td><td>32</td><td>52</td><td>9.0162e-11</td><td>1.3134e-10</td><td>1.3651e6</td><td>2.0472e6</td></tr><tr><td>945933685</td><td>&quot;0x8ce9411df545…</td><td>3600</td><td>&quot;[1514296800,15…</td><td>39</td><td>41</td><td>5.0246e-11</td><td>5.0293e-11</td><td>912077.584182</td><td>913480.414982</td></tr><tr><td>945933685</td><td>&quot;0x0425cbbc5ff7…</td><td>3600</td><td>&quot;[1514034000,15…</td><td>31</td><td>31</td><td>7.4442399e7</td><td>7.4442399e7</td><td>893449.417795</td><td>893449.417795</td></tr><tr><td>-1481534068</td><td>&quot;0x10c0337c4284…</td><td>3600</td><td>&quot;[1514181600,15…</td><td>20</td><td>23</td><td>6.8189e7</td><td>7.5024e7</td><td>744783.363258</td><td>820041.555454</td></tr><tr><td>945933685</td><td>&quot;0xd024645809f7…</td><td>86400</td><td>&quot;[1513468800,15…</td><td>55</td><td>148</td><td>8.0673319e7</td><td>8.2085e7</td><td>674753.195478</td><td>714662.286442</td></tr><tr><td>&hellip;</td><td>&hellip;</td><td>&hellip;</td><td>&hellip;</td><td>&hellip;</td><td>&hellip;</td><td>&hellip;</td><td>&hellip;</td><td>&hellip;</td><td>&hellip;</td></tr><tr><td>70914300</td><td>&quot;0x773dcefa15b4…</td><td>604800</td><td>&quot;[1559779200,15…</td><td>0</td><td>9</td><td>0.0</td><td>1.2340e-8</td><td>0.0</td><td>1528.985946</td></tr><tr><td>70914300</td><td>&quot;0x773dcefa15b4…</td><td>604800</td><td>&quot;[1560384000,15…</td><td>0</td><td>44</td><td>0.0</td><td>7.3623e-8</td><td>0.0</td><td>10683.847258</td></tr><tr><td>70914300</td><td>&quot;0x773dcefa15b4…</td><td>604800</td><td>&quot;[1560988800,15…</td><td>0</td><td>46</td><td>0.0</td><td>7.7052e-8</td><td>0.0</td><td>14357.667828</td></tr><tr><td>70914300</td><td>&quot;0x773dcefa15b4…</td><td>604800</td><td>&quot;[1561593600,15…</td><td>0</td><td>39</td><td>0.0</td><td>6.9181e-8</td><td>0.0</td><td>12631.440465</td></tr><tr><td>70914300</td><td>&quot;0x773dcefa15b4…</td><td>604800</td><td>&quot;[1562198400,15…</td><td>0</td><td>31</td><td>0.0</td><td>5.0610e-8</td><td>0.0</td><td>9172.8989</td></tr></tbody></table></div>"
      ],
      "text/plain": [
       "shape: (11_546, 10)\n",
       "┌───────────┬───────────┬───────────┬───────────┬───┬───────────┬───────────┬───────────┬──────────┐\n",
       "│ scc_hash  ┆ token     ┆ window_si ┆ time      ┆ … ┆ total_amo ┆ total_amo ┆ total_amo ┆ total_am │\n",
       "│ ---       ┆ ---       ┆ ze        ┆ ---       ┆   ┆ unt_wash  ┆ unt       ┆ unt_dolla ┆ ount_dol │\n",
       "│ i64       ┆ str       ┆ ---       ┆ str       ┆   ┆ ---       ┆ ---       ┆ r_wash    ┆ lar      │\n",
       "│           ┆           ┆ i64       ┆           ┆   ┆ f64       ┆ f64       ┆ ---       ┆ ---      │\n",
       "│           ┆           ┆           ┆           ┆   ┆           ┆           ┆ f64       ┆ f64      │\n",
       "╞═══════════╪═══════════╪═══════════╪═══════════╪═══╪═══════════╪═══════════╪═══════════╪══════════╡\n",
       "│ 945933685 ┆ 0x8ce9411 ┆ 3600      ┆ [15142932 ┆ … ┆ 9.0162e-1 ┆ 1.3134e-1 ┆ 1.3651e6  ┆ 2.0472e6 │\n",
       "│           ┆ df545d6b5 ┆           ┆ 00,151429 ┆   ┆ 1         ┆ 0         ┆           ┆          │\n",
       "│           ┆ 1a9bc52a8 ┆           ┆ 6800)     ┆   ┆           ┆           ┆           ┆          │\n",
       "│           ┆ 9e0f6…    ┆           ┆           ┆   ┆           ┆           ┆           ┆          │\n",
       "│ 945933685 ┆ 0x8ce9411 ┆ 3600      ┆ [15142968 ┆ … ┆ 5.0246e-1 ┆ 5.0293e-1 ┆ 912077.58 ┆ 913480.4 │\n",
       "│           ┆ df545d6b5 ┆           ┆ 00,151430 ┆   ┆ 1         ┆ 1         ┆ 4182      ┆ 14982    │\n",
       "│           ┆ 1a9bc52a8 ┆           ┆ 0400)     ┆   ┆           ┆           ┆           ┆          │\n",
       "│           ┆ 9e0f6…    ┆           ┆           ┆   ┆           ┆           ┆           ┆          │\n",
       "│ 945933685 ┆ 0x0425cbb ┆ 3600      ┆ [15140340 ┆ … ┆ 7.4442399 ┆ 7.4442399 ┆ 893449.41 ┆ 893449.4 │\n",
       "│           ┆ c5ff78420 ┆           ┆ 00,151403 ┆   ┆ e7        ┆ e7        ┆ 7795      ┆ 17795    │\n",
       "│           ┆ 3fe8d82be ┆           ┆ 7600)     ┆   ┆           ┆           ┆           ┆          │\n",
       "│           ┆ efa2b…    ┆           ┆           ┆   ┆           ┆           ┆           ┆          │\n",
       "│ -14815340 ┆ 0x10c0337 ┆ 3600      ┆ [15141816 ┆ … ┆ 6.8189e7  ┆ 7.5024e7  ┆ 744783.36 ┆ 820041.5 │\n",
       "│ 68        ┆ c42843e0b ┆           ┆ 00,151418 ┆   ┆           ┆           ┆ 3258      ┆ 55454    │\n",
       "│           ┆ 8ce743d7d ┆           ┆ 5200)     ┆   ┆           ┆           ┆           ┆          │\n",
       "│           ┆ 5ff39…    ┆           ┆           ┆   ┆           ┆           ┆           ┆          │\n",
       "│ 945933685 ┆ 0xd024645 ┆ 86400     ┆ [15134688 ┆ … ┆ 8.0673319 ┆ 8.2085e7  ┆ 674753.19 ┆ 714662.2 │\n",
       "│           ┆ 809f74043 ┆           ┆ 00,151355 ┆   ┆ e7        ┆           ┆ 5478      ┆ 86442    │\n",
       "│           ┆ cd2133c6a ┆           ┆ 5200)     ┆   ┆           ┆           ┆           ┆          │\n",
       "│           ┆ feb46…    ┆           ┆           ┆   ┆           ┆           ┆           ┆          │\n",
       "│ …         ┆ …         ┆ …         ┆ …         ┆ … ┆ …         ┆ …         ┆ …         ┆ …        │\n",
       "│ 70914300  ┆ 0x773dcef ┆ 604800    ┆ [15597792 ┆ … ┆ 0.0       ┆ 1.2340e-8 ┆ 0.0       ┆ 1528.985 │\n",
       "│           ┆ a15b47e77 ┆           ┆ 00,156038 ┆   ┆           ┆           ┆           ┆ 946      │\n",
       "│           ┆ c7955e5d0 ┆           ┆ 4000)     ┆   ┆           ┆           ┆           ┆          │\n",
       "│           ┆ 383ba…    ┆           ┆           ┆   ┆           ┆           ┆           ┆          │\n",
       "│ 70914300  ┆ 0x773dcef ┆ 604800    ┆ [15603840 ┆ … ┆ 0.0       ┆ 7.3623e-8 ┆ 0.0       ┆ 10683.84 │\n",
       "│           ┆ a15b47e77 ┆           ┆ 00,156098 ┆   ┆           ┆           ┆           ┆ 7258     │\n",
       "│           ┆ c7955e5d0 ┆           ┆ 8800)     ┆   ┆           ┆           ┆           ┆          │\n",
       "│           ┆ 383ba…    ┆           ┆           ┆   ┆           ┆           ┆           ┆          │\n",
       "│ 70914300  ┆ 0x773dcef ┆ 604800    ┆ [15609888 ┆ … ┆ 0.0       ┆ 7.7052e-8 ┆ 0.0       ┆ 14357.66 │\n",
       "│           ┆ a15b47e77 ┆           ┆ 00,156159 ┆   ┆           ┆           ┆           ┆ 7828     │\n",
       "│           ┆ c7955e5d0 ┆           ┆ 3600)     ┆   ┆           ┆           ┆           ┆          │\n",
       "│           ┆ 383ba…    ┆           ┆           ┆   ┆           ┆           ┆           ┆          │\n",
       "│ 70914300  ┆ 0x773dcef ┆ 604800    ┆ [15615936 ┆ … ┆ 0.0       ┆ 6.9181e-8 ┆ 0.0       ┆ 12631.44 │\n",
       "│           ┆ a15b47e77 ┆           ┆ 00,156219 ┆   ┆           ┆           ┆           ┆ 0465     │\n",
       "│           ┆ c7955e5d0 ┆           ┆ 8400)     ┆   ┆           ┆           ┆           ┆          │\n",
       "│           ┆ 383ba…    ┆           ┆           ┆   ┆           ┆           ┆           ┆          │\n",
       "│ 70914300  ┆ 0x773dcef ┆ 604800    ┆ [15621984 ┆ … ┆ 0.0       ┆ 5.0610e-8 ┆ 0.0       ┆ 9172.898 │\n",
       "│           ┆ a15b47e77 ┆           ┆ 00,156280 ┆   ┆           ┆           ┆           ┆ 9        │\n",
       "│           ┆ c7955e5d0 ┆           ┆ 3200)     ┆   ┆           ┆           ┆           ┆          │\n",
       "│           ┆ 383ba…    ┆           ┆           ┆   ┆           ┆           ┆           ┆          │\n",
       "└───────────┴───────────┴───────────┴───────────┴───┴───────────┴───────────┴───────────┴──────────┘"
      ]
     },
     "execution_count": 22,
     "metadata": {},
     "output_type": "execute_result"
    }
   ],
   "source": [
    "pl.read_csv(wash_trade_sum_path_old).sort(\"total_amount_dollar_wash\", descending=True)"
   ]
  },
  {
   "cell_type": "code",
   "execution_count": 23,
   "metadata": {},
   "outputs": [
    {
     "data": {
      "text/html": [
       "<div><style>\n",
       ".dataframe > thead > tr,\n",
       ".dataframe > tbody > tr {\n",
       "  text-align: right;\n",
       "  white-space: pre-wrap;\n",
       "}\n",
       "</style>\n",
       "<small>shape: (11_546, 10)</small><table border=\"1\" class=\"dataframe\"><thead><tr><th>scc_hash</th><th>token</th><th>window_size</th><th>time</th><th>num_wash_trades</th><th>num_trades</th><th>total_amount_wash</th><th>total_amount</th><th>total_amount_dollar_wash</th><th>total_amount_dollar</th></tr><tr><td>str</td><td>str</td><td>i64</td><td>str</td><td>i64</td><td>i64</td><td>f64</td><td>f64</td><td>f64</td><td>f64</td></tr></thead><tbody><tr><td>&quot;35a7f352635e8b…</td><td>&quot;0x8ce9411df545…</td><td>3600</td><td>&quot;[1514293200, 1…</td><td>32</td><td>52</td><td>9.0162e-11</td><td>1.3134e-10</td><td>1.3651e6</td><td>2.0472e6</td></tr><tr><td>&quot;35a7f352635e8b…</td><td>&quot;0x8ce9411df545…</td><td>3600</td><td>&quot;[1514296800, 1…</td><td>39</td><td>41</td><td>5.0246e-11</td><td>5.0293e-11</td><td>912077.584182</td><td>913480.414982</td></tr><tr><td>&quot;35a7f352635e8b…</td><td>&quot;0x0425cbbc5ff7…</td><td>3600</td><td>&quot;[1514034000, 1…</td><td>31</td><td>31</td><td>7.4442399e7</td><td>7.4442399e7</td><td>893449.417795</td><td>893449.417795</td></tr><tr><td>&quot;00bdd13a458b21…</td><td>&quot;0x10c0337c4284…</td><td>3600</td><td>&quot;[1514181600, 1…</td><td>20</td><td>23</td><td>6.8189e7</td><td>7.5024e7</td><td>744783.363258</td><td>820041.555454</td></tr><tr><td>&quot;35a7f352635e8b…</td><td>&quot;0xd024645809f7…</td><td>86400</td><td>&quot;[1513468800, 1…</td><td>55</td><td>148</td><td>8.0673319e7</td><td>8.2085e7</td><td>674753.195478</td><td>714662.286442</td></tr><tr><td>&hellip;</td><td>&hellip;</td><td>&hellip;</td><td>&hellip;</td><td>&hellip;</td><td>&hellip;</td><td>&hellip;</td><td>&hellip;</td><td>&hellip;</td><td>&hellip;</td></tr><tr><td>&quot;fc995a2817c4e9…</td><td>&quot;0x3a1237d38d0f…</td><td>86400</td><td>&quot;[1542326400, 1…</td><td>0</td><td>14</td><td>0.0</td><td>6754.571</td><td>0.0</td><td>672.833579</td></tr><tr><td>&quot;fc995a2817c4e9…</td><td>&quot;0x3a1237d38d0f…</td><td>604800</td><td>&quot;[1542240000, 1…</td><td>0</td><td>45</td><td>0.0</td><td>11731.438</td><td>0.0</td><td>1392.358865</td></tr><tr><td>&quot;fc995a2817c4e9…</td><td>&quot;0x3a1237d38d0f…</td><td>604800</td><td>&quot;[1542844800, 1…</td><td>0</td><td>7</td><td>0.0</td><td>907.329</td><td>0.0</td><td>122.605381</td></tr><tr><td>&quot;fc995a2817c4e9…</td><td>&quot;0x3a1237d38d0f…</td><td>604800</td><td>&quot;[1541635200, 1…</td><td>0</td><td>19</td><td>0.0</td><td>7855.283988</td><td>0.0</td><td>941.035711</td></tr><tr><td>&quot;fc995a2817c4e9…</td><td>&quot;0x3a1237d38d0f…</td><td>604800</td><td>&quot;[1541030400, 1…</td><td>0</td><td>14</td><td>0.0</td><td>6664.89</td><td>0.0</td><td>825.133781</td></tr></tbody></table></div>"
      ],
      "text/plain": [
       "shape: (11_546, 10)\n",
       "┌───────────┬───────────┬───────────┬───────────┬───┬───────────┬───────────┬───────────┬──────────┐\n",
       "│ scc_hash  ┆ token     ┆ window_si ┆ time      ┆ … ┆ total_amo ┆ total_amo ┆ total_amo ┆ total_am │\n",
       "│ ---       ┆ ---       ┆ ze        ┆ ---       ┆   ┆ unt_wash  ┆ unt       ┆ unt_dolla ┆ ount_dol │\n",
       "│ str       ┆ str       ┆ ---       ┆ str       ┆   ┆ ---       ┆ ---       ┆ r_wash    ┆ lar      │\n",
       "│           ┆           ┆ i64       ┆           ┆   ┆ f64       ┆ f64       ┆ ---       ┆ ---      │\n",
       "│           ┆           ┆           ┆           ┆   ┆           ┆           ┆ f64       ┆ f64      │\n",
       "╞═══════════╪═══════════╪═══════════╪═══════════╪═══╪═══════════╪═══════════╪═══════════╪══════════╡\n",
       "│ 35a7f3526 ┆ 0x8ce9411 ┆ 3600      ┆ [15142932 ┆ … ┆ 9.0162e-1 ┆ 1.3134e-1 ┆ 1.3651e6  ┆ 2.0472e6 │\n",
       "│ 35e8b0b99 ┆ df545d6b5 ┆           ┆ 00, 15142 ┆   ┆ 1         ┆ 0         ┆           ┆          │\n",
       "│ 563a8a5f4 ┆ 1a9bc52a8 ┆           ┆ 96800)    ┆   ┆           ┆           ┆           ┆          │\n",
       "│ d26ab     ┆ 9e0f6…    ┆           ┆           ┆   ┆           ┆           ┆           ┆          │\n",
       "│ 35a7f3526 ┆ 0x8ce9411 ┆ 3600      ┆ [15142968 ┆ … ┆ 5.0246e-1 ┆ 5.0293e-1 ┆ 912077.58 ┆ 913480.4 │\n",
       "│ 35e8b0b99 ┆ df545d6b5 ┆           ┆ 00, 15143 ┆   ┆ 1         ┆ 1         ┆ 4182      ┆ 14982    │\n",
       "│ 563a8a5f4 ┆ 1a9bc52a8 ┆           ┆ 00400)    ┆   ┆           ┆           ┆           ┆          │\n",
       "│ d26ab     ┆ 9e0f6…    ┆           ┆           ┆   ┆           ┆           ┆           ┆          │\n",
       "│ 35a7f3526 ┆ 0x0425cbb ┆ 3600      ┆ [15140340 ┆ … ┆ 7.4442399 ┆ 7.4442399 ┆ 893449.41 ┆ 893449.4 │\n",
       "│ 35e8b0b99 ┆ c5ff78420 ┆           ┆ 00, 15140 ┆   ┆ e7        ┆ e7        ┆ 7795      ┆ 17795    │\n",
       "│ 563a8a5f4 ┆ 3fe8d82be ┆           ┆ 37600)    ┆   ┆           ┆           ┆           ┆          │\n",
       "│ d26ab     ┆ efa2b…    ┆           ┆           ┆   ┆           ┆           ┆           ┆          │\n",
       "│ 00bdd13a4 ┆ 0x10c0337 ┆ 3600      ┆ [15141816 ┆ … ┆ 6.8189e7  ┆ 7.5024e7  ┆ 744783.36 ┆ 820041.5 │\n",
       "│ 58b2142e1 ┆ c42843e0b ┆           ┆ 00, 15141 ┆   ┆           ┆           ┆ 3258      ┆ 55454    │\n",
       "│ 65bebdf57 ┆ 8ce743d7d ┆           ┆ 85200)    ┆   ┆           ┆           ┆           ┆          │\n",
       "│ e7c65     ┆ 5ff39…    ┆           ┆           ┆   ┆           ┆           ┆           ┆          │\n",
       "│ 35a7f3526 ┆ 0xd024645 ┆ 86400     ┆ [15134688 ┆ … ┆ 8.0673319 ┆ 8.2085e7  ┆ 674753.19 ┆ 714662.2 │\n",
       "│ 35e8b0b99 ┆ 809f74043 ┆           ┆ 00, 15135 ┆   ┆ e7        ┆           ┆ 5478      ┆ 86442    │\n",
       "│ 563a8a5f4 ┆ cd2133c6a ┆           ┆ 55200)    ┆   ┆           ┆           ┆           ┆          │\n",
       "│ d26ab     ┆ feb46…    ┆           ┆           ┆   ┆           ┆           ┆           ┆          │\n",
       "│ …         ┆ …         ┆ …         ┆ …         ┆ … ┆ …         ┆ …         ┆ …         ┆ …        │\n",
       "│ fc995a281 ┆ 0x3a1237d ┆ 86400     ┆ [15423264 ┆ … ┆ 0.0       ┆ 6754.571  ┆ 0.0       ┆ 672.8335 │\n",
       "│ 7c4e9e9ee ┆ 38d0fb945 ┆           ┆ 00, 15424 ┆   ┆           ┆           ┆           ┆ 79       │\n",
       "│ 2fddf2be1 ┆ 13f85d616 ┆           ┆ 12800)    ┆   ┆           ┆           ┆           ┆          │\n",
       "│ 20c46     ┆ 79cad…    ┆           ┆           ┆   ┆           ┆           ┆           ┆          │\n",
       "│ fc995a281 ┆ 0x3a1237d ┆ 604800    ┆ [15422400 ┆ … ┆ 0.0       ┆ 11731.438 ┆ 0.0       ┆ 1392.358 │\n",
       "│ 7c4e9e9ee ┆ 38d0fb945 ┆           ┆ 00, 15428 ┆   ┆           ┆           ┆           ┆ 865      │\n",
       "│ 2fddf2be1 ┆ 13f85d616 ┆           ┆ 44800)    ┆   ┆           ┆           ┆           ┆          │\n",
       "│ 20c46     ┆ 79cad…    ┆           ┆           ┆   ┆           ┆           ┆           ┆          │\n",
       "│ fc995a281 ┆ 0x3a1237d ┆ 604800    ┆ [15428448 ┆ … ┆ 0.0       ┆ 907.329   ┆ 0.0       ┆ 122.6053 │\n",
       "│ 7c4e9e9ee ┆ 38d0fb945 ┆           ┆ 00, 15434 ┆   ┆           ┆           ┆           ┆ 81       │\n",
       "│ 2fddf2be1 ┆ 13f85d616 ┆           ┆ 49600)    ┆   ┆           ┆           ┆           ┆          │\n",
       "│ 20c46     ┆ 79cad…    ┆           ┆           ┆   ┆           ┆           ┆           ┆          │\n",
       "│ fc995a281 ┆ 0x3a1237d ┆ 604800    ┆ [15416352 ┆ … ┆ 0.0       ┆ 7855.2839 ┆ 0.0       ┆ 941.0357 │\n",
       "│ 7c4e9e9ee ┆ 38d0fb945 ┆           ┆ 00, 15422 ┆   ┆           ┆ 88        ┆           ┆ 11       │\n",
       "│ 2fddf2be1 ┆ 13f85d616 ┆           ┆ 40000)    ┆   ┆           ┆           ┆           ┆          │\n",
       "│ 20c46     ┆ 79cad…    ┆           ┆           ┆   ┆           ┆           ┆           ┆          │\n",
       "│ fc995a281 ┆ 0x3a1237d ┆ 604800    ┆ [15410304 ┆ … ┆ 0.0       ┆ 6664.89   ┆ 0.0       ┆ 825.1337 │\n",
       "│ 7c4e9e9ee ┆ 38d0fb945 ┆           ┆ 00, 15416 ┆   ┆           ┆           ┆           ┆ 81       │\n",
       "│ 2fddf2be1 ┆ 13f85d616 ┆           ┆ 35200)    ┆   ┆           ┆           ┆           ┆          │\n",
       "│ 20c46     ┆ 79cad…    ┆           ┆           ┆   ┆           ┆           ┆           ┆          │\n",
       "└───────────┴───────────┴───────────┴───────────┴───┴───────────┴───────────┴───────────┴──────────┘"
      ]
     },
     "execution_count": 23,
     "metadata": {},
     "output_type": "execute_result"
    }
   ],
   "source": [
    "pl.read_csv(wash_trade_sum_path_new).sort(\"total_amount_dollar_wash\", descending=True)"
   ]
  },
  {
   "cell_type": "markdown",
   "metadata": {},
   "source": [
    "## Address Clusters"
   ]
  },
  {
   "cell_type": "code",
   "execution_count": 24,
   "metadata": {},
   "outputs": [],
   "source": [
    "address_cluster_path_old = root_path_old + \"/address_clusters.json\"\n",
    "address_cluster_path_new = root_path_new + \"/address_clusters.json\""
   ]
  },
  {
   "cell_type": "code",
   "execution_count": 25,
   "metadata": {},
   "outputs": [
    {
     "data": {
      "text/html": [
       "<div><style>\n",
       ".dataframe > thead > tr,\n",
       ".dataframe > tbody > tr {\n",
       "  text-align: right;\n",
       "  white-space: pre-wrap;\n",
       "}\n",
       "</style>\n",
       "<small>shape: (1, 48)</small><table border=\"1\" class=\"dataframe\"><thead><tr><th>-2128102011</th><th>1847001433</th><th>-998410515</th><th>430822907</th><th>1197759065</th><th>2116522745</th><th>-325595539</th><th>-709068057</th><th>191620348</th><th>1459362490</th><th>-1901915009</th><th>-463476512</th><th>-1870023990</th><th>-929224118</th><th>277611095</th><th>1308383571</th><th>1007922281</th><th>-1410855733</th><th>-2018510919</th><th>-765544725</th><th>-1628526029</th><th>-1481534068</th><th>-172093220</th><th>-1834769247</th><th>945933685</th><th>-1104991899</th><th>-272612318</th><th>-25095849</th><th>-824515621</th><th>-1917750456</th><th>897274115</th><th>1665048525</th><th>-420574915</th><th>-1370271568</th><th>778575278</th><th>-994744032</th><th>980606841</th><th>-1693048310</th><th>-966146348</th><th>834720556</th><th>-634880961</th><th>70914300</th><th>-2034412120</th><th>585811579</th><th>-1091126842</th><th>939052146</th><th>-998796260</th><th>-1822975770</th></tr><tr><td>list[str]</td><td>list[str]</td><td>list[str]</td><td>list[str]</td><td>list[str]</td><td>list[str]</td><td>list[str]</td><td>list[str]</td><td>list[str]</td><td>list[str]</td><td>list[str]</td><td>list[str]</td><td>list[str]</td><td>list[str]</td><td>list[str]</td><td>list[str]</td><td>list[str]</td><td>list[str]</td><td>list[str]</td><td>list[str]</td><td>list[str]</td><td>list[str]</td><td>list[str]</td><td>list[str]</td><td>list[str]</td><td>list[str]</td><td>list[str]</td><td>list[str]</td><td>list[str]</td><td>list[str]</td><td>list[str]</td><td>list[str]</td><td>list[str]</td><td>list[str]</td><td>list[str]</td><td>list[str]</td><td>list[str]</td><td>list[str]</td><td>list[str]</td><td>list[str]</td><td>list[str]</td><td>list[str]</td><td>list[str]</td><td>list[str]</td><td>list[str]</td><td>list[str]</td><td>list[str]</td><td>list[str]</td></tr></thead><tbody><tr><td>[&quot;0x06ef85af9400ffa3241d1d7ad32406de171122b0&quot;, &quot;0xa17da3c93c6ffd235d232234f4ac6e0d1d23ec0e&quot;]</td><td>[&quot;0x48ff04d50833a63f5704a51cdb0a38b0c7e8d636&quot;, &quot;0xcc31096fa323eca4fad534252384613154d881af&quot;]</td><td>[&quot;0x4296a4b0c584a6a2d01c75eb2603a7891c6b5c36&quot;, &quot;0xe69a334025f286478b6429eacd1857290455884d&quot;]</td><td>[&quot;0x60d6f73c7f89873af503f70e1e6cfb32f35f36bf&quot;, &quot;0xb33433facc15cca17b7df156c124cfa9c55ca77a&quot;]</td><td>[&quot;0x89be3f77801e5561abf0c10d89d6662b0fe59647&quot;, &quot;0xa6069c50f334479725d6f93df3a0984e724d3259&quot;]</td><td>[&quot;0x9f7496ce6b9febea8c6f491cfed0a88db60e4c3f&quot;, &quot;0xff0efb7753e904a3f57f0458b09949cac119a7d6&quot;]</td><td>[&quot;0x12a12562192bd96c0c9bda1f564681c256d71553&quot;, &quot;0x9d95f9370bf497704c7b17685877d90f065eab33&quot;]</td><td>[&quot;0x910454e2a42174af74012b6d7fc1e9ed29eaa7cf&quot;, &quot;0xf44cd3781795edc449f7c362ec69889a7db0357c&quot;]</td><td>[&quot;0x77a0f4b5f87eadbc2c4ed6925bb90bb54f8cdd78&quot;, &quot;0xb7ead6c48e7a425d3efff64dbf4b28c5469e8cc2&quot;]</td><td>[&quot;0x982b646b390dd0fb688998c9ba85a48e1f3a6624&quot;, &quot;0xdf8024e9a4009ad854064ba52c8232efb22bda1b&quot;]</td><td>[&quot;0x03042ecca8071b8e256ab320432fee357634ab14&quot;, &quot;0x06a79ee04dc23d006ae228b0ee890cb2d25b6ee8&quot;, … &quot;0xd24ebc32bd6645cc03fd45bf81446ac7e05acdb3&quot;]</td><td>[&quot;0xc657872d475a8c94d0af7dee13797b652f85d700&quot;, &quot;0xe3954850ca6d4900eeaf942a82970ab8c1170465&quot;]</td><td>[&quot;0x03042ecca8071b8e256ab320432fee357634ab14&quot;, &quot;0x5d09ca5c7c47cc9f275ed1b929fec1f4ca1d25c3&quot;]</td><td>[&quot;0x62d699baaf9a9a92060e4c3e9d9e589d2f3dc41a&quot;, &quot;0x87ec77d3e9f63b770955f58b59f7dfe1061748b6&quot;]</td><td>[&quot;0xa7d0d3a5e147965ccf7bda098e37638c23324517&quot;, &quot;0xefd2f2a1bf4dee4d18bf22a02b77bdb8a1016e70&quot;]</td><td>[&quot;0xc485d5e791c01896fcfff8f3769889cc25083a24&quot;, &quot;0xeb05e318f70bbc4f7473e6c95d21c5327dc78865&quot;]</td><td>[&quot;0x6123e60203ccda4baf6dfbb1e2b7aaa594743893&quot;, &quot;0x87e5de3d121728eec812a14b45c19af55af47f77&quot;]</td><td>[&quot;0x99e3f3475f6bf1faf8da3f1f42cde2c1b05bc998&quot;, &quot;0xdd110dbd1cc1cb50ee51428a8b39625958e92c6a&quot;]</td><td>[&quot;0x1b188822e6c0ce794b0da7331aaf9eec2d88ef04&quot;, &quot;0xd4f8091ce2e5a1e59dd5172982b96dffef2fd74b&quot;]</td><td>[&quot;0xa0b5f10dd703973742e9931758b71db1099ed4f1&quot;, &quot;0xc4ceed8c75d5027c0f06b3b4eedd7f05dedeb9b8&quot;]</td><td>[&quot;0x57b00c981363c67b11e07eaa71364bf20e8025fe&quot;, &quot;0xf1e65cd0b31fcb8713ac1902002b262d57c9da33&quot;]</td><td>[&quot;0x0bb2e14082f272175aa69b020d30a4ad7a9457a3&quot;, &quot;0xb520ee5cd4686dcac929353bb42d46a0d6a7ff70&quot;]</td><td>[&quot;0x3b77f691e7ed476ed4e1080741e3648cacb943f3&quot;, &quot;0x6f724ec0dfff98441c371e6b2447fb6d42e79914&quot;]</td><td>[&quot;0x03042ecca8071b8e256ab320432fee357634ab14&quot;, &quot;0x06a79ee04dc23d006ae228b0ee890cb2d25b6ee8&quot;, &quot;0x5d09ca5c7c47cc9f275ed1b929fec1f4ca1d25c3&quot;]</td><td>[&quot;0x8f357336eae4642987e905c6eb49a215d993ae1d&quot;, &quot;0xa8b28dad793239929daf6af8bc45d7cbb5cd74c8&quot;]</td><td>[&quot;0x0a4adede454b6f0db6c93789310c2a7766b93e34&quot;, &quot;0xb4134e9277d5b0553c5734a072a12dfb6ff82c02&quot;]</td><td>[&quot;0x9ddc443c70b1b67b6c6f872a376766260239647c&quot;, &quot;0xf13586d1603065dbf1424f707279fc665d05f994&quot;]</td><td>[&quot;0x26fee85005fdc1b220e5aa84a269679869225a11&quot;, &quot;0xa54c6bca883cff876524b6734fc636893b6989c6&quot;]</td><td>[&quot;0x373cda92ff6561ef452e909dabad20acb30226cc&quot;, &quot;0x987f0c118b358ec6282b9646835ea80d4a7f1284&quot;]</td><td>[&quot;0x85c1f4c6ed0393120ae2ae008f2b75cb9551e736&quot;, &quot;0xc13feec1a5f10651aa15d8ab752b65da72c60ae8&quot;, &quot;0xc850e565b91fcc3801765fae3d99af8a18654c23&quot;]</td><td>[&quot;0x001282d046fbabe750889fa86a393956532f97ea&quot;, &quot;0x001e0fea79543d0ff8d6d1110f6ae3dfe4c2599f&quot;]</td><td>[&quot;0x3c89878880b64c929e2d3471431c4483035a8a8f&quot;, &quot;0x5a559bdf207f2879b76508444ed586a697946c3b&quot;]</td><td>[&quot;0xac304d09e959b3a950ee538dff352239cc2102cb&quot;, &quot;0xe0357c877684c1d76da30c1e09ccb425bc710fd2&quot;]</td><td>[&quot;0x11a7a5eda6f2e60e21745aab1b50b02c98f2e484&quot;, &quot;0x3d1749fb48be9f80617d01ff291a2859c6c6afff&quot;]</td><td>[&quot;0x85c1f4c6ed0393120ae2ae008f2b75cb9551e736&quot;, &quot;0xc850e565b91fcc3801765fae3d99af8a18654c23&quot;]</td><td>[&quot;0x3d48587aa16d91a2e37198b5b428674bdaddf038&quot;, &quot;0x57b00c981363c67b11e07eaa71364bf20e8025fe&quot;, &quot;0xf1e65cd0b31fcb8713ac1902002b262d57c9da33&quot;]</td><td>[&quot;0x00703c8d70e2beaa135741a860c27804156e06b2&quot;, &quot;0x81f2e464586c097fa92c346191326bffe6a4f996&quot;]</td><td>[&quot;0x188d32d4d028fe2e05afe3b11225cfd885abd965&quot;, &quot;0x196795f27494f7dbaebc5c2295441ac461fa0c0b&quot;]</td><td>[&quot;0x6bf34e55e6a93fd75be0db9d812fe98c261828ca&quot;, &quot;0xee7d771fbf0aa4eed5444baf3f243f1f572e8fb5&quot;]</td><td>[&quot;0x9aabc792478ca988c45d2c762c5e4265cb5be39c&quot;, &quot;0xe1fd5cdd0c0b2804b32ab94e03346c78826980ae&quot;]</td><td>[&quot;0x7facc5de06078d5d065b0610e128f069004a7328&quot;, &quot;0xb972121769d8435e2d9b92cd183c32141637aaff&quot;]</td><td>[&quot;0x8667b9d42713d4c8a4857c59dc2299a24c1e93a1&quot;, &quot;0xda437afe9f7813ac6dff2808ebdadd8361559d7f&quot;]</td><td>[&quot;0x2f3b7214d5c01035a0cb79a357c80ec69d0b403d&quot;, &quot;0xa34ba283e1dbd0052ab22928c6107c227c2b6333&quot;]</td><td>[&quot;0x56ea68fbf7e3afc68ddac7d4e8b0513398da4fb4&quot;, &quot;0x609f3e25e9ca488fb090380de8e44d2b2d7b12f0&quot;]</td><td>[&quot;0x103d0e9290246916d4e183eba096d65e4f5a12d9&quot;, &quot;0x33f78ddcd17f4b84a06536456cf1b24139f7b9d4&quot;]</td><td>[&quot;0x13a17d95e97364ab2bf3804137983e484f99cf07&quot;, &quot;0x202766fdec310d8012b239789a9eb0854b999c45&quot;, &quot;0x4859c15d2d78ae1750c07f7fa7892c944426feca&quot;]</td><td>[&quot;0x5437cb80b75fa7d26d69ec80aa8d8b654860c80e&quot;, &quot;0xd27012775fa252fadb8c7f6fd34607804b5b5eb6&quot;]</td><td>[&quot;0x22fdc2d3386bee3ef7a137926f00e76d7fb6a2d4&quot;, &quot;0xc105a30a7033ab5ab432b631a13be38953fc3835&quot;]</td></tr></tbody></table></div>"
      ],
      "text/plain": [
       "shape: (1, 48)\n",
       "┌───────────┬───────────┬───────────┬───────────┬───┬───────────┬───────────┬───────────┬──────────┐\n",
       "│ -21281020 ┆ 184700143 ┆ -99841051 ┆ 430822907 ┆ … ┆ -10911268 ┆ 939052146 ┆ -99879626 ┆ -1822975 │\n",
       "│ 11        ┆ 3         ┆ 5         ┆ ---       ┆   ┆ 42        ┆ ---       ┆ 0         ┆ 770      │\n",
       "│ ---       ┆ ---       ┆ ---       ┆ list[str] ┆   ┆ ---       ┆ list[str] ┆ ---       ┆ ---      │\n",
       "│ list[str] ┆ list[str] ┆ list[str] ┆           ┆   ┆ list[str] ┆           ┆ list[str] ┆ list[str │\n",
       "│           ┆           ┆           ┆           ┆   ┆           ┆           ┆           ┆ ]        │\n",
       "╞═══════════╪═══════════╪═══════════╪═══════════╪═══╪═══════════╪═══════════╪═══════════╪══════════╡\n",
       "│ [\"0x06ef8 ┆ [\"0x48ff0 ┆ [\"0x4296a ┆ [\"0x60d6f ┆ … ┆ [\"0x103d0 ┆ [\"0x13a17 ┆ [\"0x5437c ┆ [\"0x22fd │\n",
       "│ 5af9400ff ┆ 4d50833a6 ┆ 4b0c584a6 ┆ 73c7f8987 ┆   ┆ e92902469 ┆ d95e97364 ┆ b80b75fa7 ┆ c2d3386b │\n",
       "│ a3241d1d7 ┆ 3f5704a51 ┆ a2d01c75e ┆ 3af503f70 ┆   ┆ 16d4e183e ┆ ab2bf3804 ┆ d26d69ec8 ┆ ee3ef7a1 │\n",
       "│ ad324…    ┆ cdb0a…    ┆ b2603…    ┆ e1e6c…    ┆   ┆ ba096…    ┆ 13798…    ┆ 0aa8d…    ┆ 37926f00 │\n",
       "│           ┆           ┆           ┆           ┆   ┆           ┆           ┆           ┆ …        │\n",
       "└───────────┴───────────┴───────────┴───────────┴───┴───────────┴───────────┴───────────┴──────────┘"
      ]
     },
     "execution_count": 25,
     "metadata": {},
     "output_type": "execute_result"
    }
   ],
   "source": [
    "pl.read_json(address_cluster_path_old)"
   ]
  },
  {
   "cell_type": "code",
   "execution_count": 26,
   "metadata": {},
   "outputs": [
    {
     "data": {
      "text/html": [
       "<div><style>\n",
       ".dataframe > thead > tr,\n",
       ".dataframe > tbody > tr {\n",
       "  text-align: right;\n",
       "  white-space: pre-wrap;\n",
       "}\n",
       "</style>\n",
       "<small>shape: (1, 48)</small><table border=\"1\" class=\"dataframe\"><thead><tr><th>e6130e53f1c38b69f7192ad19c32fd07</th><th>0334442c95063929e28fe561db767b89</th><th>1a12fac24c8af7b367010a1235cbc7ef</th><th>c0c30e584096eb7e2fdb623abf6b7e88</th><th>09f9040bfe7b44cc23bb7709a6fdf194</th><th>3328b6cd4d638c6440f42e41876943f4</th><th>00bdd13a458b2142e165bebdf57e7c65</th><th>5ab6f262c643d1dd9e6791bab4690935</th><th>12fbdeb6753630c0743d6a2f19921c03</th><th>0cc4a2ff34c8f4e47078b65ace6ecffa</th><th>6bdcb397b875cc6d16689d78c3c2f20c</th><th>65bf94fc213ac83c2b67e2fb0981c0e4</th><th>15ed708608ac7de27fb046ac0b1ea829</th><th>768cd930a80560457cb6f8e4fd99c516</th><th>8e89f169ab4a9a168da097e1ae6ac9ee</th><th>e9b72f7cb484228e4debf7239ad4d4a4</th><th>b2a89591aea963162f913cf69ef367fb</th><th>fc995a2817c4e9e9ee2fddf2be120c46</th><th>d768df06b3023009701056caab1ee636</th><th>94de4e576b81af699c90b6507f23143b</th><th>ba3db7a0a69ca120de5fd388f5d907f1</th><th>4f9e76b2940b4f5c7d3e2b4840198d83</th><th>e28c387fc0aa6d139d4604164efaa630</th><th>3d8a836ad8daf8c88884fed0fd241b73</th><th>f1e28ae528c4efd0e5a6b67ec0d6d619</th><th>2ce3d5dcaa97f56f07734f25f44b16d5</th><th>0bd663988da82f63d46519197d3d4b0e</th><th>167b4ea38d199a7457d5bebf97aa5bb3</th><th>767bdeeda928685723e7d28299a990c7</th><th>f0ed5b6c6fc2c23784414b8e37734d98</th><th>f9f623fda08307d1d628b70704a5dd25</th><th>0b1e74595e2b58f0e243ab66bb412cb3</th><th>7845fa143f2348cbc7717d0ee41646aa</th><th>83044d0d7bbc0d2bb793fe92556a2b0d</th><th>370506317638cabd060b7530cb941b21</th><th>40dbc0bb2f223ee64d41f93187987b25</th><th>d5461913e4dba9c92b0f2efbcfe2526b</th><th>dbfe808a78ad129f8afc30e844444dd9</th><th>6f6f36b809c12118aa00e9d036d8ea91</th><th>9302ee0320a8e4216c7a4e34d6a23056</th><th>b60e1b257dc5673b29a87ce08b5234f9</th><th>cef0f1f4a49eb1483ebcbe4e9f682072</th><th>120d5867b2d5bc38eb2cfd1723c05278</th><th>2e0b3e73b6be8af7e10d5c7e650c5c02</th><th>35a7f352635e8b0b99563a8a5f4d26ab</th><th>4fd0011a47263d9af64f4e1de110a6ad</th><th>d3fb4445f1b42b47042293ce52c5630f</th><th>425ab820994036d373f1ae233c34139d</th></tr><tr><td>list[str]</td><td>list[str]</td><td>list[str]</td><td>list[str]</td><td>list[str]</td><td>list[str]</td><td>list[str]</td><td>list[str]</td><td>list[str]</td><td>list[str]</td><td>list[str]</td><td>list[str]</td><td>list[str]</td><td>list[str]</td><td>list[str]</td><td>list[str]</td><td>list[str]</td><td>list[str]</td><td>list[str]</td><td>list[str]</td><td>list[str]</td><td>list[str]</td><td>list[str]</td><td>list[str]</td><td>list[str]</td><td>list[str]</td><td>list[str]</td><td>list[str]</td><td>list[str]</td><td>list[str]</td><td>list[str]</td><td>list[str]</td><td>list[str]</td><td>list[str]</td><td>list[str]</td><td>list[str]</td><td>list[str]</td><td>list[str]</td><td>list[str]</td><td>list[str]</td><td>list[str]</td><td>list[str]</td><td>list[str]</td><td>list[str]</td><td>list[str]</td><td>list[str]</td><td>list[str]</td><td>list[str]</td></tr></thead><tbody><tr><td>[&quot;0xa7d0d3a5e147965ccf7bda098e37638c23324517&quot;, &quot;0xefd2f2a1bf4dee4d18bf22a02b77bdb8a1016e70&quot;]</td><td>[&quot;0x00703c8d70e2beaa135741a860c27804156e06b2&quot;, &quot;0x81f2e464586c097fa92c346191326bffe6a4f996&quot;]</td><td>[&quot;0x7facc5de06078d5d065b0610e128f069004a7328&quot;, &quot;0xb972121769d8435e2d9b92cd183c32141637aaff&quot;]</td><td>[&quot;0x57b00c981363c67b11e07eaa71364bf20e8025fe&quot;, &quot;0xf1e65cd0b31fcb8713ac1902002b262d57c9da33&quot;]</td><td>[&quot;0x103d0e9290246916d4e183eba096d65e4f5a12d9&quot;, &quot;0x33f78ddcd17f4b84a06536456cf1b24139f7b9d4&quot;]</td><td>[&quot;0x56ea68fbf7e3afc68ddac7d4e8b0513398da4fb4&quot;, &quot;0x609f3e25e9ca488fb090380de8e44d2b2d7b12f0&quot;]</td><td>[&quot;0x0bb2e14082f272175aa69b020d30a4ad7a9457a3&quot;, &quot;0xb520ee5cd4686dcac929353bb42d46a0d6a7ff70&quot;]</td><td>[&quot;0x99e3f3475f6bf1faf8da3f1f42cde2c1b05bc998&quot;, &quot;0xdd110dbd1cc1cb50ee51428a8b39625958e92c6a&quot;]</td><td>[&quot;0x9aabc792478ca988c45d2c762c5e4265cb5be39c&quot;, &quot;0xe1fd5cdd0c0b2804b32ab94e03346c78826980ae&quot;]</td><td>[&quot;0x4296a4b0c584a6a2d01c75eb2603a7891c6b5c36&quot;, &quot;0xe69a334025f286478b6429eacd1857290455884d&quot;]</td><td>[&quot;0x2f3b7214d5c01035a0cb79a357c80ec69d0b403d&quot;, &quot;0xa34ba283e1dbd0052ab22928c6107c227c2b6333&quot;]</td><td>[&quot;0x26fee85005fdc1b220e5aa84a269679869225a11&quot;, &quot;0xa54c6bca883cff876524b6734fc636893b6989c6&quot;]</td><td>[&quot;0x373cda92ff6561ef452e909dabad20acb30226cc&quot;, &quot;0x987f0c118b358ec6282b9646835ea80d4a7f1284&quot;]</td><td>[&quot;0x5437cb80b75fa7d26d69ec80aa8d8b654860c80e&quot;, &quot;0xd27012775fa252fadb8c7f6fd34607804b5b5eb6&quot;]</td><td>[&quot;0x910454e2a42174af74012b6d7fc1e9ed29eaa7cf&quot;, &quot;0xf44cd3781795edc449f7c362ec69889a7db0357c&quot;]</td><td>[&quot;0x6123e60203ccda4baf6dfbb1e2b7aaa594743893&quot;, &quot;0x87e5de3d121728eec812a14b45c19af55af47f77&quot;]</td><td>[&quot;0x12a12562192bd96c0c9bda1f564681c256d71553&quot;, &quot;0x9d95f9370bf497704c7b17685877d90f065eab33&quot;]</td><td>[&quot;0x3b77f691e7ed476ed4e1080741e3648cacb943f3&quot;, &quot;0x6f724ec0dfff98441c371e6b2447fb6d42e79914&quot;]</td><td>[&quot;0xa0b5f10dd703973742e9931758b71db1099ed4f1&quot;, &quot;0xc4ceed8c75d5027c0f06b3b4eedd7f05dedeb9b8&quot;]</td><td>[&quot;0x188d32d4d028fe2e05afe3b11225cfd885abd965&quot;, &quot;0x196795f27494f7dbaebc5c2295441ac461fa0c0b&quot;]</td><td>[&quot;0xc657872d475a8c94d0af7dee13797b652f85d700&quot;, &quot;0xe3954850ca6d4900eeaf942a82970ab8c1170465&quot;]</td><td>[&quot;0x9ddc443c70b1b67b6c6f872a376766260239647c&quot;, &quot;0xf13586d1603065dbf1424f707279fc665d05f994&quot;]</td><td>[&quot;0x0a4adede454b6f0db6c93789310c2a7766b93e34&quot;, &quot;0xb4134e9277d5b0553c5734a072a12dfb6ff82c02&quot;]</td><td>[&quot;0x9f7496ce6b9febea8c6f491cfed0a88db60e4c3f&quot;, &quot;0xff0efb7753e904a3f57f0458b09949cac119a7d6&quot;]</td><td>[&quot;0x11a7a5eda6f2e60e21745aab1b50b02c98f2e484&quot;, &quot;0x3d1749fb48be9f80617d01ff291a2859c6c6afff&quot;]</td><td>[&quot;0xc485d5e791c01896fcfff8f3769889cc25083a24&quot;, &quot;0xeb05e318f70bbc4f7473e6c95d21c5327dc78865&quot;]</td><td>[&quot;0x60d6f73c7f89873af503f70e1e6cfb32f35f36bf&quot;, &quot;0xb33433facc15cca17b7df156c124cfa9c55ca77a&quot;]</td><td>[&quot;0x62d699baaf9a9a92060e4c3e9d9e589d2f3dc41a&quot;, &quot;0x87ec77d3e9f63b770955f58b59f7dfe1061748b6&quot;]</td><td>[&quot;0x89be3f77801e5561abf0c10d89d6662b0fe59647&quot;, &quot;0xa6069c50f334479725d6f93df3a0984e724d3259&quot;]</td><td>[&quot;0x8667b9d42713d4c8a4857c59dc2299a24c1e93a1&quot;, &quot;0xda437afe9f7813ac6dff2808ebdadd8361559d7f&quot;]</td><td>[&quot;0x13a17d95e97364ab2bf3804137983e484f99cf07&quot;, &quot;0x202766fdec310d8012b239789a9eb0854b999c45&quot;, &quot;0x4859c15d2d78ae1750c07f7fa7892c944426feca&quot;]</td><td>[&quot;0x982b646b390dd0fb688998c9ba85a48e1f3a6624&quot;, &quot;0xdf8024e9a4009ad854064ba52c8232efb22bda1b&quot;]</td><td>[&quot;0x001282d046fbabe750889fa86a393956532f97ea&quot;, &quot;0x001e0fea79543d0ff8d6d1110f6ae3dfe4c2599f&quot;]</td><td>[&quot;0x77a0f4b5f87eadbc2c4ed6925bb90bb54f8cdd78&quot;, &quot;0xb7ead6c48e7a425d3efff64dbf4b28c5469e8cc2&quot;]</td><td>[&quot;0x06ef85af9400ffa3241d1d7ad32406de171122b0&quot;, &quot;0xa17da3c93c6ffd235d232234f4ac6e0d1d23ec0e&quot;]</td><td>[&quot;0x3d48587aa16d91a2e37198b5b428674bdaddf038&quot;, &quot;0x57b00c981363c67b11e07eaa71364bf20e8025fe&quot;, &quot;0xf1e65cd0b31fcb8713ac1902002b262d57c9da33&quot;]</td><td>[&quot;0xac304d09e959b3a950ee538dff352239cc2102cb&quot;, &quot;0xe0357c877684c1d76da30c1e09ccb425bc710fd2&quot;]</td><td>[&quot;0x22fdc2d3386bee3ef7a137926f00e76d7fb6a2d4&quot;, &quot;0xc105a30a7033ab5ab432b631a13be38953fc3835&quot;]</td><td>[&quot;0x85c1f4c6ed0393120ae2ae008f2b75cb9551e736&quot;, &quot;0xc13feec1a5f10651aa15d8ab752b65da72c60ae8&quot;, &quot;0xc850e565b91fcc3801765fae3d99af8a18654c23&quot;]</td><td>[&quot;0x6bf34e55e6a93fd75be0db9d812fe98c261828ca&quot;, &quot;0xee7d771fbf0aa4eed5444baf3f243f1f572e8fb5&quot;]</td><td>[&quot;0x85c1f4c6ed0393120ae2ae008f2b75cb9551e736&quot;, &quot;0xc850e565b91fcc3801765fae3d99af8a18654c23&quot;]</td><td>[&quot;0x3c89878880b64c929e2d3471431c4483035a8a8f&quot;, &quot;0x5a559bdf207f2879b76508444ed586a697946c3b&quot;]</td><td>[&quot;0x03042ecca8071b8e256ab320432fee357634ab14&quot;, &quot;0x06a79ee04dc23d006ae228b0ee890cb2d25b6ee8&quot;, &quot;0x5d09ca5c7c47cc9f275ed1b929fec1f4ca1d25c3&quot;]</td><td>[&quot;0x03042ecca8071b8e256ab320432fee357634ab14&quot;, &quot;0x5d09ca5c7c47cc9f275ed1b929fec1f4ca1d25c3&quot;]</td><td>[&quot;0x8f357336eae4642987e905c6eb49a215d993ae1d&quot;, &quot;0xa8b28dad793239929daf6af8bc45d7cbb5cd74c8&quot;]</td><td>[&quot;0x1b188822e6c0ce794b0da7331aaf9eec2d88ef04&quot;, &quot;0xd4f8091ce2e5a1e59dd5172982b96dffef2fd74b&quot;]</td><td>[&quot;0x48ff04d50833a63f5704a51cdb0a38b0c7e8d636&quot;, &quot;0xcc31096fa323eca4fad534252384613154d881af&quot;]</td><td>[&quot;0x03042ecca8071b8e256ab320432fee357634ab14&quot;, &quot;0x06a79ee04dc23d006ae228b0ee890cb2d25b6ee8&quot;, … &quot;0xd24ebc32bd6645cc03fd45bf81446ac7e05acdb3&quot;]</td></tr></tbody></table></div>"
      ],
      "text/plain": [
       "shape: (1, 48)\n",
       "┌───────────┬───────────┬───────────┬───────────┬───┬───────────┬───────────┬───────────┬──────────┐\n",
       "│ e6130e53f ┆ 0334442c9 ┆ 1a12fac24 ┆ c0c30e584 ┆ … ┆ 35a7f3526 ┆ 4fd0011a4 ┆ d3fb4445f ┆ 425ab820 │\n",
       "│ 1c38b69f7 ┆ 5063929e2 ┆ c8af7b367 ┆ 096eb7e2f ┆   ┆ 35e8b0b99 ┆ 7263d9af6 ┆ 1b42b4704 ┆ 994036d3 │\n",
       "│ 192ad19c3 ┆ 8fe561db7 ┆ 010a1235c ┆ db623abf6 ┆   ┆ 563a8a5f4 ┆ 4f4e1de11 ┆ 2293ce52c ┆ 73f1ae23 │\n",
       "│ 2fd07     ┆ 67b89     ┆ bc7ef     ┆ b7e88     ┆   ┆ d26ab     ┆ 0a6ad     ┆ 5630f     ┆ 3c34139d │\n",
       "│ ---       ┆ ---       ┆ ---       ┆ ---       ┆   ┆ ---       ┆ ---       ┆ ---       ┆ ---      │\n",
       "│ list[str] ┆ list[str] ┆ list[str] ┆ list[str] ┆   ┆ list[str] ┆ list[str] ┆ list[str] ┆ list[str │\n",
       "│           ┆           ┆           ┆           ┆   ┆           ┆           ┆           ┆ ]        │\n",
       "╞═══════════╪═══════════╪═══════════╪═══════════╪═══╪═══════════╪═══════════╪═══════════╪══════════╡\n",
       "│ [\"0xa7d0d ┆ [\"0x00703 ┆ [\"0x7facc ┆ [\"0x57b00 ┆ … ┆ [\"0x8f357 ┆ [\"0x1b188 ┆ [\"0x48ff0 ┆ [\"0x0304 │\n",
       "│ 3a5e14796 ┆ c8d70e2be ┆ 5de06078d ┆ c981363c6 ┆   ┆ 336eae464 ┆ 822e6c0ce ┆ 4d50833a6 ┆ 2ecca807 │\n",
       "│ 5ccf7bda0 ┆ aa135741a ┆ 5d065b061 ┆ 7b11e07ea ┆   ┆ 2987e905c ┆ 794b0da73 ┆ 3f5704a51 ┆ 1b8e256a │\n",
       "│ 98e37…    ┆ 860c2…    ┆ 0e128…    ┆ a7136…    ┆   ┆ 6eb49…    ┆ 31aaf…    ┆ cdb0a…    ┆ b320432f │\n",
       "│           ┆           ┆           ┆           ┆   ┆           ┆           ┆           ┆ …        │\n",
       "└───────────┴───────────┴───────────┴───────────┴───┴───────────┴───────────┴───────────┴──────────┘"
      ]
     },
     "execution_count": 26,
     "metadata": {},
     "output_type": "execute_result"
    }
   ],
   "source": [
    "pl.read_json(address_cluster_path_new)"
   ]
  }
 ],
 "metadata": {
  "kernelspec": {
   "display_name": "Python 3",
   "language": "python",
   "name": "python3"
  },
  "language_info": {
   "codemirror_mode": {
    "name": "ipython",
    "version": 3
   },
   "file_extension": ".py",
   "mimetype": "text/x-python",
   "name": "python",
   "nbconvert_exporter": "python",
   "pygments_lexer": "ipython3",
   "version": "3.10.12"
  }
 },
 "nbformat": 4,
 "nbformat_minor": 2
}
